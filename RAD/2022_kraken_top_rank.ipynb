{
 "cells": [
  {
   "cell_type": "markdown",
   "metadata": {},
   "source": [
    "### Script is designed to identify the most represented genus or other taxonomic rank among the metagenome samples\n",
    "Input files are the output of kraken-report <br>\n",
    "Output is the boxplot and a table <br>\n",
    "You can change taxon rank and filtering level"
   ]
  },
  {
   "cell_type": "code",
   "execution_count": 16,
   "metadata": {},
   "outputs": [],
   "source": [
    "# import packages\n",
    "import pandas as pd\n",
    "import matplotlib.pyplot as plt\n",
    "import seaborn as sns \n",
    "import os\n",
    "import glob"
   ]
  },
  {
   "cell_type": "code",
   "execution_count": 6,
   "metadata": {},
   "outputs": [],
   "source": [
    "# choose taxanomic rank\n",
    "# you can choose: (U)nclassified, (D)omain, (K)ingdom, (P)hylum, (C)lass, (O)rder, (F)amily, (G)enus, or (S)pecies.\n",
    "rank = 'G'\n",
    "# choose minimum reads threshhold\n",
    "minreads = 10000\n",
    "# choose number of needed top genus or other taxanomic groups\n",
    "numb = 10"
   ]
  },
  {
   "cell_type": "code",
   "execution_count": 7,
   "metadata": {},
   "outputs": [],
   "source": [
    "# You path to folders with kraken outputs files\n",
    "pathD = os.path.abspath(os.path.dirname('./input/BGI_Kraken2_1908/')) \n",
    "# You can define needed file prefix (for example, 'lab*')\n",
    "flist = [os.path.basename(x) for x in glob.glob(pathD + '/lab*')]"
   ]
  },
  {
   "cell_type": "code",
   "execution_count": 21,
   "metadata": {},
   "outputs": [
    {
     "data": {
      "text/html": [
       "<div>\n",
       "<style scoped>\n",
       "    .dataframe tbody tr th:only-of-type {\n",
       "        vertical-align: middle;\n",
       "    }\n",
       "\n",
       "    .dataframe tbody tr th {\n",
       "        vertical-align: top;\n",
       "    }\n",
       "\n",
       "    .dataframe thead th {\n",
       "        text-align: right;\n",
       "    }\n",
       "</style>\n",
       "<table border=\"1\" class=\"dataframe\">\n",
       "  <thead>\n",
       "    <tr style=\"text-align: right;\">\n",
       "      <th></th>\n",
       "      <th>perc</th>\n",
       "    </tr>\n",
       "    <tr>\n",
       "      <th>name</th>\n",
       "      <th></th>\n",
       "    </tr>\n",
       "  </thead>\n",
       "  <tbody>\n",
       "    <tr>\n",
       "      <th>Bacteroides</th>\n",
       "      <td>9.235</td>\n",
       "    </tr>\n",
       "    <tr>\n",
       "      <th>Phocaeicola</th>\n",
       "      <td>5.110</td>\n",
       "    </tr>\n",
       "    <tr>\n",
       "      <th>Alistipes</th>\n",
       "      <td>2.210</td>\n",
       "    </tr>\n",
       "    <tr>\n",
       "      <th>Faecalibacterium</th>\n",
       "      <td>1.870</td>\n",
       "    </tr>\n",
       "    <tr>\n",
       "      <th>Dhillonvirus</th>\n",
       "      <td>1.415</td>\n",
       "    </tr>\n",
       "    <tr>\n",
       "      <th>Prevotella</th>\n",
       "      <td>1.260</td>\n",
       "    </tr>\n",
       "    <tr>\n",
       "      <th>Parabacteroides</th>\n",
       "      <td>0.950</td>\n",
       "    </tr>\n",
       "    <tr>\n",
       "      <th>Jiaodavirus</th>\n",
       "      <td>0.800</td>\n",
       "    </tr>\n",
       "    <tr>\n",
       "      <th>Roseburia</th>\n",
       "      <td>0.730</td>\n",
       "    </tr>\n",
       "    <tr>\n",
       "      <th>Succinivibrio</th>\n",
       "      <td>0.600</td>\n",
       "    </tr>\n",
       "  </tbody>\n",
       "</table>\n",
       "</div>"
      ],
      "text/plain": [
       "                                    perc\n",
       "name                                    \n",
       "                  Bacteroides      9.235\n",
       "                  Phocaeicola      5.110\n",
       "                  Alistipes        2.210\n",
       "                Faecalibacterium   1.870\n",
       "                Dhillonvirus       1.415\n",
       "                  Prevotella       1.260\n",
       "                  Parabacteroides  0.950\n",
       "                  Jiaodavirus      0.800\n",
       "                Roseburia          0.730\n",
       "              Succinivibrio        0.600"
      ]
     },
     "execution_count": 21,
     "metadata": {},
     "output_type": "execute_result"
    }
   ],
   "source": [
    "# Make a table with most represented taxanomic groups\n",
    "COLUMN_NAMES = ['smpl','perc', 'rn1', 'rn2', 'type', 'id', 'name']\n",
    "data = pd.DataFrame(columns=COLUMN_NAMES)\n",
    "\n",
    "for smpl in flist:\n",
    "    tax = pd.read_csv(pathD + '/' + str(smpl), sep='\\t', \n",
    "                  names=[\"perc\", \"rn1\", \"rn2\", 'type','id', \"name\"])\n",
    "    taxU = tax[tax['type'] == rank]\n",
    "    taxU = taxU[taxU['rn1'] >= minreads].sort_values(by=['rn1'], ascending=False)\n",
    "    taxU = taxU.assign(smpl=smpl[6:23])\n",
    "    data = data.append(taxU)\n",
    "\n",
    "data2 = data.groupby(by=[\"name\"]).median().sort_values(by=['perc'], ascending=False)\n",
    "data3 = data2.head(numb)\n",
    "\n",
    "data3.to_csv('results/Rank_'+str(rank)+'_STAT.csv')\n",
    "data3"
   ]
  },
  {
   "cell_type": "code",
   "execution_count": 18,
   "metadata": {},
   "outputs": [
    {
     "data": {
      "image/png": "[encoded data removed]",
      "text/plain": [
       "<Figure size 720x216 with 1 Axes>"
      ]
     },
     "metadata": {
      "needs_background": "light"
     },
     "output_type": "display_data"
    }
   ],
   "source": [
    "# Make a boxplot with most represented taxanomic groups\n",
    "data4 = data3.reset_index()\n",
    "data5 = data[data['name'].isin(data4['name'])]\n",
    "\n",
    "fig, ax = plt.subplots(figsize=(10, 3))\n",
    "ax = sns.boxplot(x=\"perc\", y=\"name\", order = data3.index, data=data5, orient=\"h\", palette=\"Set2\")\n",
    "\n",
    "plt.title(\"Rank \"+str(rank)+'\\n'+'filter less '+str(minreads)+' reads per smpl'+'\\n')\n",
    "plt.savefig('results/Rank_'+str(rank)+'.png', dpi=400)"
   ]
  },
  {
   "cell_type": "code",
   "execution_count": null,
   "metadata": {},
   "outputs": [],
   "source": []
  }
 ],
 "metadata": {
  "kernelspec": {
   "display_name": "Python 3",
   "language": "python",
   "name": "python3"
  },
  "language_info": {
   "codemirror_mode": {
    "name": "ipython",
    "version": 3
   },
   "file_extension": ".py",
   "mimetype": "text/x-python",
   "name": "python",
   "nbconvert_exporter": "python",
   "pygments_lexer": "ipython3",
   "version": "3.7.0"
  }
 },
 "nbformat": 4,
 "nbformat_minor": 2
}
