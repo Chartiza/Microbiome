{
 "cells": [
  {
   "cell_type": "markdown",
   "metadata": {},
   "source": [
    "### Script is designed to identify the most represented spesies with the biggest reads number per smpl\n",
    "Input files are the output of kraken-report <br>\n",
    "Output is the boxplot and a table <br>\n",
    "You can change number of top species and per species reads threshhold"
   ]
  },
  {
   "cell_type": "code",
   "execution_count": 390,
   "metadata": {},
   "outputs": [],
   "source": [
    "# import packages\n",
    "import matplotlib.pyplot as plt\n",
    "import pandas as pd\n",
    "import seaborn as sns \n",
    "import numpy as np\n",
    "import os\n",
    "import glob"
   ]
  },
  {
   "cell_type": "code",
   "execution_count": 428,
   "metadata": {},
   "outputs": [],
   "source": [
    "# filter species with the reads number per smple are less than:\n",
    "nb = 10000\n",
    "# How many species need to include in top list?\n",
    "tsp = 30"
   ]
  },
  {
   "cell_type": "code",
   "execution_count": null,
   "metadata": {},
   "outputs": [],
   "source": [
    "# You path to folders with kraken outputs files\n",
    "pathD = os.path.abspath(os.path.dirname('./input/BGI_Kraken2_1908/')) \n",
    "# You can define needed file prefix (for example, 'lab*')\n",
    "flist = [os.path.basename(x) for x in glob.glob(pathD + '/lab*')]"
   ]
  },
  {
   "cell_type": "code",
   "execution_count": 423,
   "metadata": {},
   "outputs": [
    {
     "data": {
      "text/html": [
       "<div>\n",
       "<style scoped>\n",
       "    .dataframe tbody tr th:only-of-type {\n",
       "        vertical-align: middle;\n",
       "    }\n",
       "\n",
       "    .dataframe tbody tr th {\n",
       "        vertical-align: top;\n",
       "    }\n",
       "\n",
       "    .dataframe thead th {\n",
       "        text-align: right;\n",
       "    }\n",
       "</style>\n",
       "<table border=\"1\" class=\"dataframe\">\n",
       "  <thead>\n",
       "    <tr style=\"text-align: right;\">\n",
       "      <th></th>\n",
       "      <th>smpl</th>\n",
       "      <th>perc</th>\n",
       "      <th>rn1</th>\n",
       "      <th>rn2</th>\n",
       "      <th>type</th>\n",
       "      <th>id</th>\n",
       "      <th>name</th>\n",
       "    </tr>\n",
       "  </thead>\n",
       "  <tbody>\n",
       "    <tr>\n",
       "      <th>11</th>\n",
       "      <td>VS08GD_E100016770</td>\n",
       "      <td>12.51</td>\n",
       "      <td>6154435</td>\n",
       "      <td>6154435</td>\n",
       "      <td>S</td>\n",
       "      <td>165179</td>\n",
       "      <td>Prevotella copri</td>\n",
       "    </tr>\n",
       "    <tr>\n",
       "      <th>41</th>\n",
       "      <td>VS08GD_E100016770</td>\n",
       "      <td>1.52</td>\n",
       "      <td>746400</td>\n",
       "      <td>744193</td>\n",
       "      <td>S</td>\n",
       "      <td>821</td>\n",
       "      <td>Phocaeicola vulgatus</td>\n",
       "    </tr>\n",
       "  </tbody>\n",
       "</table>\n",
       "</div>"
      ],
      "text/plain": [
       "                 smpl   perc      rn1      rn2 type      id  \\\n",
       "11  VS08GD_E100016770  12.51  6154435  6154435    S  165179   \n",
       "41  VS08GD_E100016770   1.52   746400   744193    S     821   \n",
       "\n",
       "                                        name  \n",
       "11                          Prevotella copri  \n",
       "41                      Phocaeicola vulgatus  "
      ]
     },
     "execution_count": 423,
     "metadata": {},
     "output_type": "execute_result"
    }
   ],
   "source": [
    "# Select only species\n",
    "COLUMN_NAMES = ['smpl','perc', 'rn1', 'rn2', 'type', 'id', 'name']\n",
    "sp = pd.DataFrame(columns=COLUMN_NAMES)\n",
    "\n",
    "for smpl in flist:\n",
    "    tax = pd.read_csv(pathD + '/' + str(smpl), sep='\\t', \n",
    "                  names=[\"perc\", \"rn1\", \"rn2\", 'type','id', \"name\"])\n",
    "    taxU = tax[tax['type'] == 'S']\n",
    "    taxU = taxU[taxU['rn1'] >= nb].sort_values(by=['rn1'], ascending=False)\n",
    "    taxU = taxU.assign(smpl=smpl[6:23])\n",
    "    sp = sp.append(taxU)\n",
    "         \n",
    "sp.head(2)"
   ]
  },
  {
   "cell_type": "code",
   "execution_count": 429,
   "metadata": {},
   "outputs": [
    {
     "name": "stdout",
     "output_type": "stream",
     "text": [
      "Total number of mo: 1179\n",
      "Present in 0.99% smpls: 14\n"
     ]
    }
   ],
   "source": [
    "# how much species are present in N percent of the samples?\n",
    "a = 0.99 #choose needed percentage\n",
    "sn = len(sp['smpl'].unique())\n",
    "blist = sp.groupby(by=[\"name\"]).count().sort_values(by=['smpl'], ascending=False)\n",
    "blistN = blist[blist['id'] >= sn*a]\n",
    "\n",
    "print('Total number of mo: '+str(len(sp['name'].unique())))\n",
    "print('Present in ' + str(a) + '% smpls: '+str(len(blistN)))"
   ]
  },
  {
   "cell_type": "code",
   "execution_count": 430,
   "metadata": {},
   "outputs": [
    {
     "data": {
      "text/html": [
       "<div>\n",
       "<style scoped>\n",
       "    .dataframe tbody tr th:only-of-type {\n",
       "        vertical-align: middle;\n",
       "    }\n",
       "\n",
       "    .dataframe tbody tr th {\n",
       "        vertical-align: top;\n",
       "    }\n",
       "\n",
       "    .dataframe thead th {\n",
       "        text-align: right;\n",
       "    }\n",
       "</style>\n",
       "<table border=\"1\" class=\"dataframe\">\n",
       "  <thead>\n",
       "    <tr style=\"text-align: right;\">\n",
       "      <th></th>\n",
       "      <th>name</th>\n",
       "      <th>perc</th>\n",
       "      <th>Abundance</th>\n",
       "    </tr>\n",
       "  </thead>\n",
       "  <tbody>\n",
       "    <tr>\n",
       "      <th>0</th>\n",
       "      <td>Phocaeicola vulgatus</td>\n",
       "      <td>4.085367</td>\n",
       "      <td>1906</td>\n",
       "    </tr>\n",
       "    <tr>\n",
       "      <th>1</th>\n",
       "      <td>Bacteroides uniformis</td>\n",
       "      <td>2.409186</td>\n",
       "      <td>1905</td>\n",
       "    </tr>\n",
       "    <tr>\n",
       "      <th>2</th>\n",
       "      <td>Faecalibacterium prausnitzii</td>\n",
       "      <td>2.167099</td>\n",
       "      <td>1903</td>\n",
       "    </tr>\n",
       "    <tr>\n",
       "      <th>3</th>\n",
       "      <td>Phocaeicola dorei</td>\n",
       "      <td>1.638378</td>\n",
       "      <td>1905</td>\n",
       "    </tr>\n",
       "    <tr>\n",
       "      <th>4</th>\n",
       "      <td>Bacteroides ovatus</td>\n",
       "      <td>0.963951</td>\n",
       "      <td>1901</td>\n",
       "    </tr>\n",
       "  </tbody>\n",
       "</table>\n",
       "</div>"
      ],
      "text/plain": [
       "                            name      perc  Abundance\n",
       "0           Phocaeicola vulgatus  4.085367       1906\n",
       "1          Bacteroides uniformis  2.409186       1905\n",
       "2   Faecalibacterium prausnitzii  2.167099       1903\n",
       "3              Phocaeicola dorei  1.638378       1905\n",
       "4             Bacteroides ovatus  0.963951       1901"
      ]
     },
     "execution_count": 430,
     "metadata": {},
     "output_type": "execute_result"
    }
   ],
   "source": [
    "# choose top species\n",
    "idlist = sp.groupby(by=[\"id\"]).count().sort_values(by=['smpl'], ascending=False)\n",
    "idlist = idlist.head(tsp)\n",
    "idlist = idlist.reset_index()\n",
    "list_of_values = idlist[['id']]\n",
    "\n",
    "spA = sp[sp['id'].isin(list_of_values['id'])]\n",
    "spA = spA[spA['id'] != 9606]\n",
    "\n",
    "idlistD1 = idlist[['id','smpl']].set_index('id')\n",
    "idlistD2 = idlistD1.iloc[:, -1].to_dict()\n",
    "spA['Abundance'] = spA['id'].map(idlistD2)\n",
    "\n",
    "idx = spA.groupby(by=[\"name\"]).mean()\n",
    "idx = idx.reset_index()\n",
    "idx = idx.replace(\"\\s\\s+\" , \" \",regex=True)\n",
    "idx = idx.sort_values(by=['perc'], ascending=False)\n",
    "\n",
    "idx.to_csv('results/TopSp_'+str(tsp)+'.csv')\n",
    "idx = idx.reset_index()\n",
    "idx = idx[['name','perc','Abundance']]\n",
    "idx.head(5)"
   ]
  },
  {
   "cell_type": "code",
   "execution_count": 434,
   "metadata": {},
   "outputs": [
    {
     "data": {
      "image/png": "[encoded data removed]",
      "text/plain": [
       "<Figure size 720x576 with 1 Axes>"
      ]
     },
     "metadata": {
      "needs_background": "light"
     },
     "output_type": "display_data"
    }
   ],
   "source": [
    "fig, ax = plt.subplots(figsize=(10, 8))\n",
    "plt.scatter(idx['perc'], idx['Abundance'], color = 'green', alpha=0.5)\n",
    "\n",
    "for i, txt in enumerate(idx['name'].head(5)):\n",
    "    ax.annotate(txt, (idx['perc'][i], idx['Abundance'][i]))\n",
    "\n",
    "ax.spines['top'].set_visible(False)\n",
    "ax.spines['right'].set_visible(False)\n",
    "\n",
    "plt.title('Top '+str(tsp)+' species'+'\\n', fontsize=16)\n",
    "plt.ylabel('Number of samples in which the species is present')\n",
    "plt.xlabel('Mean reads percent per sample')\n",
    "plt.savefig('results/Top_species_'+str(tsp)+'.png', dpi=400)"
   ]
  },
  {
   "cell_type": "code",
   "execution_count": null,
   "metadata": {},
   "outputs": [],
   "source": []
  }
 ],
 "metadata": {
  "kernelspec": {
   "display_name": "Python 3",
   "language": "python",
   "name": "python3"
  },
  "language_info": {
   "codemirror_mode": {
    "name": "ipython",
    "version": 3
   },
   "file_extension": ".py",
   "mimetype": "text/x-python",
   "name": "python",
   "nbconvert_exporter": "python",
   "pygments_lexer": "ipython3",
   "version": "3.7.0"
  }
 },
 "nbformat": 4,
 "nbformat_minor": 2
}
