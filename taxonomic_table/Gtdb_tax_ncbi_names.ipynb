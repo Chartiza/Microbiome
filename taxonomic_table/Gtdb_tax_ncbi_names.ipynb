{
 "cells": [
  {
   "cell_type": "markdown",
   "metadata": {},
   "source": [
    "## Script is designed to create the taxonomy table file\n",
    "\n",
    "Output is: <br>\n",
    "\n",
    "1. <i> File \"Tax_gtdb.csv\" <br></i>\n",
    "Taxonomy table file. Taxonomy was taken from last GTDB release (release207/207.0) <br>\n",
    "https://data.ace.uq.edu.au/public/gtdb/data/releases/release207/207.0/ <br>\n",
    "<br>\n",
    "2. <i> File \"Tax_gtdb-ncbi.csv\" <br></i>\n",
    "Taxonomy table file. The table includes the gtdb taxonomy and ncbi names for all species for which I find a correspondence between dtdb and ncbi spesies names. Gtdb species names vs ncbi species names match files were taken from here: <br>\n",
    "https://data.gtdb.ecogenomic.org/releases/latest/auxillary_files/\n"
   ]
  },
  {
   "cell_type": "code",
   "execution_count": 1,
   "metadata": {},
   "outputs": [],
   "source": [
    "# import packages\n",
    "import matplotlib.pyplot as plt\n",
    "import matplotlib.pyplot as plt\n",
    "from matplotlib_venn import venn2\n",
    "from matplotlib_venn import venn3\n",
    "import pandas as pd\n",
    "import seaborn as sns \n",
    "import os\n",
    "import glob\n",
    "import plotly.express as px\n",
    "import numpy as np"
   ]
  },
  {
   "cell_type": "markdown",
   "metadata": {},
   "source": [
    "## Tax_gtdb"
   ]
  },
  {
   "cell_type": "code",
   "execution_count": 2,
   "metadata": {},
   "outputs": [
    {
     "data": {
      "text/html": [
       "<div>\n",
       "<style scoped>\n",
       "    .dataframe tbody tr th:only-of-type {\n",
       "        vertical-align: middle;\n",
       "    }\n",
       "\n",
       "    .dataframe tbody tr th {\n",
       "        vertical-align: top;\n",
       "    }\n",
       "\n",
       "    .dataframe thead th {\n",
       "        text-align: right;\n",
       "    }\n",
       "</style>\n",
       "<table border=\"1\" class=\"dataframe\">\n",
       "  <thead>\n",
       "    <tr style=\"text-align: right;\">\n",
       "      <th></th>\n",
       "      <th>domain</th>\n",
       "      <th>phylum</th>\n",
       "      <th>class</th>\n",
       "      <th>order</th>\n",
       "      <th>family</th>\n",
       "      <th>genus</th>\n",
       "      <th>sp</th>\n",
       "    </tr>\n",
       "  </thead>\n",
       "  <tbody>\n",
       "    <tr>\n",
       "      <th>0</th>\n",
       "      <td>Bacteria</td>\n",
       "      <td>Proteobacteria</td>\n",
       "      <td>Gammaproteobacteria</td>\n",
       "      <td>Enterobacterales</td>\n",
       "      <td>Enterobacteriaceae</td>\n",
       "      <td>Escherichia</td>\n",
       "      <td>Escherichia coli</td>\n",
       "    </tr>\n",
       "    <tr>\n",
       "      <th>26859</th>\n",
       "      <td>Bacteria</td>\n",
       "      <td>Firmicutes</td>\n",
       "      <td>Bacilli</td>\n",
       "      <td>Staphylococcales</td>\n",
       "      <td>Staphylococcaceae</td>\n",
       "      <td>Staphylococcus</td>\n",
       "      <td>Staphylococcus aureus</td>\n",
       "    </tr>\n",
       "  </tbody>\n",
       "</table>\n",
       "</div>"
      ],
      "text/plain": [
       "         domain          phylum                class             order  \\\n",
       "0      Bacteria  Proteobacteria  Gammaproteobacteria  Enterobacterales   \n",
       "26859  Bacteria      Firmicutes              Bacilli  Staphylococcales   \n",
       "\n",
       "                   family           genus                     sp  \n",
       "0      Enterobacteriaceae     Escherichia       Escherichia coli  \n",
       "26859   Staphylococcaceae  Staphylococcus  Staphylococcus aureus  "
      ]
     },
     "execution_count": 2,
     "metadata": {},
     "output_type": "execute_result"
    }
   ],
   "source": [
    "colnames = ['dom','phylum','class','order','family','genus','sp']\n",
    "\n",
    "bac = pd.read_csv('input/bac120_taxonomy_r207.tsv', sep=';', names=colnames, header=None)\n",
    "arh = pd.read_csv('input/ar53_taxonomy_r207.tsv', sep=';', names=colnames, header=None)\n",
    "\n",
    "# modify bac120 table\n",
    "bac['domain'] = bac['dom'].str.split('__', expand=True)[1]\n",
    "bac['phylum'] = bac['phylum'].str.replace(r'p__', '')\n",
    "bac['class'] = bac['class'].str.replace(r'c__', '')\n",
    "bac['order'] = bac['order'].str.replace(r'o__', '')\n",
    "bac['family'] = bac['family'].str.replace(r'f__', '')\n",
    "bac['genus'] = bac['genus'].str.replace(r'g__', '')\n",
    "bac['sp'] = bac['sp'].str.replace(r's__', '')\n",
    "bac = bac[['domain','phylum','class','order','family','genus','sp']]\n",
    "bac = bac.drop_duplicates()\n",
    "\n",
    "# modify arch table\n",
    "arh['domain'] = arh['dom'].str.split('__', expand=True)[1]\n",
    "arh['phylum'] = arh['phylum'].str.replace(r'p__', '')\n",
    "arh['class'] = arh['class'].str.replace(r'c__', '')\n",
    "arh['order'] = arh['order'].str.replace(r'o__', '')\n",
    "arh['family'] = arh['family'].str.replace(r'f__', '')\n",
    "arh['genus'] = arh['genus'].str.replace(r'g__', '')\n",
    "arh['sp'] = arh['sp'].str.replace(r's__', '')\n",
    "arh = arh[['domain','phylum','class','order','family','genus','sp']]\n",
    "arh = arh.drop_duplicates()\n",
    "\n",
    "frames = [bac,arh]\n",
    "gtdb = pd.concat(frames)\n",
    "\n",
    "gtdb.to_excel('Tax_gtdb.xlsx', index=False)\n",
    "gtdb.head(2)"
   ]
  },
  {
   "cell_type": "code",
   "execution_count": 3,
   "metadata": {},
   "outputs": [
    {
     "name": "stdout",
     "output_type": "stream",
     "text": [
      "Total bacteria species number in GTDB is  62291\n"
     ]
    }
   ],
   "source": [
    "print('Total bacteria species number in GTDB is ',len(gtdb.loc[gtdb['domain'] == 'Bacteria']))"
   ]
  },
  {
   "cell_type": "markdown",
   "metadata": {},
   "source": [
    "## Tax_gtdb-ncbi"
   ]
  },
  {
   "cell_type": "code",
   "execution_count": 4,
   "metadata": {},
   "outputs": [
    {
     "data": {
      "text/html": [
       "<div>\n",
       "<style scoped>\n",
       "    .dataframe tbody tr th:only-of-type {\n",
       "        vertical-align: middle;\n",
       "    }\n",
       "\n",
       "    .dataframe tbody tr th {\n",
       "        vertical-align: top;\n",
       "    }\n",
       "\n",
       "    .dataframe thead th {\n",
       "        text-align: right;\n",
       "    }\n",
       "</style>\n",
       "<table border=\"1\" class=\"dataframe\">\n",
       "  <thead>\n",
       "    <tr style=\"text-align: right;\">\n",
       "      <th></th>\n",
       "      <th>sp_gtdb</th>\n",
       "      <th>sp_ncbi</th>\n",
       "    </tr>\n",
       "  </thead>\n",
       "  <tbody>\n",
       "    <tr>\n",
       "      <th>0</th>\n",
       "      <td>Zymomonas pomaceae</td>\n",
       "      <td>Zymomonas mobilis</td>\n",
       "    </tr>\n",
       "    <tr>\n",
       "      <th>1</th>\n",
       "      <td>Zymomonas mobilis_B</td>\n",
       "      <td>Zymomonas mobilis</td>\n",
       "    </tr>\n",
       "  </tbody>\n",
       "</table>\n",
       "</div>"
      ],
      "text/plain": [
       "               sp_gtdb            sp_ncbi\n",
       "0   Zymomonas pomaceae  Zymomonas mobilis\n",
       "1  Zymomonas mobilis_B  Zymomonas mobilis"
      ]
     },
     "execution_count": 4,
     "metadata": {},
     "output_type": "execute_result"
    }
   ],
   "source": [
    "# исходный файл соотыетвия\n",
    "convB = pd.read_excel('input/gtdb_vs_ncbi_bacteria.xlsx', sheet_name='names')\n",
    "\n",
    "convB['top_sp_ncbi'] = convB['List of NCBI species'].str.split(',', expand=True)[0]\n",
    "convB['GTDB R207 species'] = convB['GTDB R207 species'].str.replace(r's__', '')\n",
    "convB['top_sp_ncbi'] = convB['top_sp_ncbi'].str.replace(r's__', '')\n",
    "convB.rename(columns = {'GTDB R207 species':'sp_gtdb'}, inplace = True)\n",
    "new = convB.top_sp_ncbi.str.rsplit(' ', 1, expand=True)\\\n",
    "  .rename(columns=lambda x: 'col{}'.format(x + 1))\n",
    "convB['sp_ncbi'] = new['col1']\n",
    "\n",
    "convB = convB[['sp_gtdb','sp_ncbi']]\n",
    "convB = convB.loc[convB['sp_ncbi'] != \"(g__)\"]\n",
    "\n",
    "convB.head(2)"
   ]
  },
  {
   "cell_type": "code",
   "execution_count": 64,
   "metadata": {},
   "outputs": [
    {
     "name": "stdout",
     "output_type": "stream",
     "text": [
      "Unique bacteria species by gtdb -  9759\n"
     ]
    },
    {
     "data": {
      "text/html": [
       "<div>\n",
       "<style scoped>\n",
       "    .dataframe tbody tr th:only-of-type {\n",
       "        vertical-align: middle;\n",
       "    }\n",
       "\n",
       "    .dataframe tbody tr th {\n",
       "        vertical-align: top;\n",
       "    }\n",
       "\n",
       "    .dataframe thead th {\n",
       "        text-align: right;\n",
       "    }\n",
       "</style>\n",
       "<table border=\"1\" class=\"dataframe\">\n",
       "  <thead>\n",
       "    <tr style=\"text-align: right;\">\n",
       "      <th></th>\n",
       "      <th>sp_gtdb</th>\n",
       "      <th>sp_ncbi</th>\n",
       "    </tr>\n",
       "  </thead>\n",
       "  <tbody>\n",
       "    <tr>\n",
       "      <th>11572</th>\n",
       "      <td>Streptomyces albidoflavus</td>\n",
       "      <td>Streptomyces albus</td>\n",
       "    </tr>\n",
       "    <tr>\n",
       "      <th>11573</th>\n",
       "      <td>Pseudomonas_E amygdali</td>\n",
       "      <td>Pseudomonas coronafaciens</td>\n",
       "    </tr>\n",
       "    <tr>\n",
       "      <th>11574</th>\n",
       "      <td>Enterobacter hormaechei_A</td>\n",
       "      <td>Escherichia coli</td>\n",
       "    </tr>\n",
       "    <tr>\n",
       "      <th>11575</th>\n",
       "      <td>Escherichia coli</td>\n",
       "      <td>Enterobacter hormaechei</td>\n",
       "    </tr>\n",
       "    <tr>\n",
       "      <th>11576</th>\n",
       "      <td>Brucella melitensis</td>\n",
       "      <td>Brucella neotomae</td>\n",
       "    </tr>\n",
       "  </tbody>\n",
       "</table>\n",
       "</div>"
      ],
      "text/plain": [
       "                         sp_gtdb                    sp_ncbi\n",
       "11572  Streptomyces albidoflavus         Streptomyces albus\n",
       "11573     Pseudomonas_E amygdali  Pseudomonas coronafaciens\n",
       "11574  Enterobacter hormaechei_A           Escherichia coli\n",
       "11575           Escherichia coli    Enterobacter hormaechei\n",
       "11576        Brucella melitensis          Brucella neotomae"
      ]
     },
     "execution_count": 64,
     "metadata": {},
     "output_type": "execute_result"
    }
   ],
   "source": [
    "# вручную переделанный файл соответсвия\n",
    "convB = pd.read_excel('input/gtdb_vs_ncbi_bacteria.xlsx', sheet_name='names')\n",
    "print('Unique bacteria species by gtdb - ',len(convB['GTDB R207 species'].unique()))\n",
    "\n",
    "convB.rename(columns = {'GTDB R207 species':'sp_gtdb',\"List of NCBI species\":'ncbi'}, inplace = True)\n",
    "new = convB.ncbi.str.rsplit(' ', 1, expand=True)\\\n",
    "  .rename(columns=lambda x: 'col{}'.format(x + 1))\n",
    "convB['sp_ncbi'] = new['col1']\n",
    "convB['sp_ncbi'] = convB['sp_ncbi'].str.replace(r'^ ', '')\n",
    "convB = convB[['sp_gtdb','sp_ncbi']]\n",
    "convB = convB.reset_index(drop=True)\n",
    "\n",
    "convB.tail()"
   ]
  },
  {
   "cell_type": "code",
   "execution_count": 63,
   "metadata": {},
   "outputs": [
    {
     "name": "stdout",
     "output_type": "stream",
     "text": [
      "Unique archaea species by gtdb -  3102\n"
     ]
    },
    {
     "data": {
      "text/html": [
       "<div>\n",
       "<style scoped>\n",
       "    .dataframe tbody tr th:only-of-type {\n",
       "        vertical-align: middle;\n",
       "    }\n",
       "\n",
       "    .dataframe tbody tr th {\n",
       "        vertical-align: top;\n",
       "    }\n",
       "\n",
       "    .dataframe thead th {\n",
       "        text-align: right;\n",
       "    }\n",
       "</style>\n",
       "<table border=\"1\" class=\"dataframe\">\n",
       "  <thead>\n",
       "    <tr style=\"text-align: right;\">\n",
       "      <th></th>\n",
       "      <th>sp_gtdb</th>\n",
       "      <th>sp_ncbi</th>\n",
       "    </tr>\n",
       "  </thead>\n",
       "  <tbody>\n",
       "    <tr>\n",
       "      <th>233</th>\n",
       "      <td>Ignisphaera aggregans_G</td>\n",
       "      <td>Ignisphaera aggregans</td>\n",
       "    </tr>\n",
       "    <tr>\n",
       "      <th>234</th>\n",
       "      <td>Methanobrevibacter_D curvatus</td>\n",
       "      <td>Methanobrevibacter curvatus</td>\n",
       "    </tr>\n",
       "  </tbody>\n",
       "</table>\n",
       "</div>"
      ],
      "text/plain": [
       "                           sp_gtdb                      sp_ncbi\n",
       "233        Ignisphaera aggregans_G        Ignisphaera aggregans\n",
       "234  Methanobrevibacter_D curvatus  Methanobrevibacter curvatus"
      ]
     },
     "execution_count": 63,
     "metadata": {},
     "output_type": "execute_result"
    }
   ],
   "source": [
    "convA = pd.read_excel('input/gtdb_vs_ncbi_r207_archaea.xlsx', sheet_name='Species')\n",
    "print('Unique archaea species by gtdb - ',len(convA['GTDB R207 species'].unique()))\n",
    "\n",
    "convA['top_sp_ncbi'] = convA['List of NCBI species'].str.split(',', expand=True)[0]\n",
    "convA['GTDB R207 species'] = convA['GTDB R207 species'].str.replace(r's__', '')\n",
    "convA['top_sp_ncbi'] = convA['top_sp_ncbi'].str.replace(r's__', '')\n",
    "convA.rename(columns = {'GTDB R207 species':'sp_gtdb'}, inplace = True)\n",
    "new = convA.top_sp_ncbi.str.rsplit(' ', 1, expand=True)\\\n",
    "  .rename(columns=lambda x: 'col{}'.format(x + 1))\n",
    "convA['sp_ncbi'] = new['col1']\n",
    "\n",
    "convA = convA[['sp_gtdb','sp_ncbi']]\n",
    "convA = convA.loc[convA['sp_ncbi'] != \"(g__)\"]\n",
    "convA = convA.reset_index(drop=True)\n",
    "\n",
    "convA.tail(2)"
   ]
  },
  {
   "cell_type": "code",
   "execution_count": 66,
   "metadata": {},
   "outputs": [
    {
     "name": "stdout",
     "output_type": "stream",
     "text": [
      "Unique species by gtdb -  9994\n"
     ]
    },
    {
     "data": {
      "text/html": [
       "<div>\n",
       "<style scoped>\n",
       "    .dataframe tbody tr th:only-of-type {\n",
       "        vertical-align: middle;\n",
       "    }\n",
       "\n",
       "    .dataframe tbody tr th {\n",
       "        vertical-align: top;\n",
       "    }\n",
       "\n",
       "    .dataframe thead th {\n",
       "        text-align: right;\n",
       "    }\n",
       "</style>\n",
       "<table border=\"1\" class=\"dataframe\">\n",
       "  <thead>\n",
       "    <tr style=\"text-align: right;\">\n",
       "      <th></th>\n",
       "      <th>sp_gtdb</th>\n",
       "      <th>sp_ncbi</th>\n",
       "    </tr>\n",
       "  </thead>\n",
       "  <tbody>\n",
       "    <tr>\n",
       "      <th>11810</th>\n",
       "      <td>Escherichia coli</td>\n",
       "      <td>Enterobacter hormaechei</td>\n",
       "    </tr>\n",
       "    <tr>\n",
       "      <th>11811</th>\n",
       "      <td>Brucella melitensis</td>\n",
       "      <td>Brucella neotomae</td>\n",
       "    </tr>\n",
       "  </tbody>\n",
       "</table>\n",
       "</div>"
      ],
      "text/plain": [
       "                   sp_gtdb                  sp_ncbi\n",
       "11810     Escherichia coli  Enterobacter hormaechei\n",
       "11811  Brucella melitensis        Brucella neotomae"
      ]
     },
     "execution_count": 66,
     "metadata": {},
     "output_type": "execute_result"
    }
   ],
   "source": [
    "frames = [convA,convB]\n",
    "conv = pd.concat(frames)\n",
    "conv = conv.reset_index(drop=True)\n",
    "\n",
    "print('Unique species by gtdb - ',len(conv['sp_gtdb'].unique()))\n",
    "conv.tail(2)"
   ]
  },
  {
   "cell_type": "code",
   "execution_count": 67,
   "metadata": {},
   "outputs": [
    {
     "data": {
      "text/html": [
       "<div>\n",
       "<style scoped>\n",
       "    .dataframe tbody tr th:only-of-type {\n",
       "        vertical-align: middle;\n",
       "    }\n",
       "\n",
       "    .dataframe tbody tr th {\n",
       "        vertical-align: top;\n",
       "    }\n",
       "\n",
       "    .dataframe thead th {\n",
       "        text-align: right;\n",
       "    }\n",
       "</style>\n",
       "<table border=\"1\" class=\"dataframe\">\n",
       "  <thead>\n",
       "    <tr style=\"text-align: right;\">\n",
       "      <th></th>\n",
       "      <th>domain</th>\n",
       "      <th>phylum</th>\n",
       "      <th>class</th>\n",
       "      <th>order</th>\n",
       "      <th>family</th>\n",
       "      <th>genus</th>\n",
       "      <th>sp</th>\n",
       "      <th>sp_gtdb</th>\n",
       "      <th>sp_ncbi</th>\n",
       "    </tr>\n",
       "  </thead>\n",
       "  <tbody>\n",
       "    <tr>\n",
       "      <th>0</th>\n",
       "      <td>Bacteria</td>\n",
       "      <td>Firmicutes</td>\n",
       "      <td>Bacilli</td>\n",
       "      <td>Erysipelotrichales</td>\n",
       "      <td>Erysipelotrichaceae</td>\n",
       "      <td>Absicoccus</td>\n",
       "      <td>Absicoccus porci</td>\n",
       "      <td>Absicoccus porci</td>\n",
       "      <td>Absicoccus porci</td>\n",
       "    </tr>\n",
       "    <tr>\n",
       "      <th>1</th>\n",
       "      <td>Bacteria</td>\n",
       "      <td>Proteobacteria</td>\n",
       "      <td>Gammaproteobacteria</td>\n",
       "      <td>Nevskiales</td>\n",
       "      <td>OUC007</td>\n",
       "      <td>Abyssibacter</td>\n",
       "      <td>Abyssibacter profundi</td>\n",
       "      <td>Abyssibacter profundi</td>\n",
       "      <td>Abyssibacter profundi</td>\n",
       "    </tr>\n",
       "  </tbody>\n",
       "</table>\n",
       "</div>"
      ],
      "text/plain": [
       "     domain          phylum                class               order  \\\n",
       "0  Bacteria      Firmicutes              Bacilli  Erysipelotrichales   \n",
       "1  Bacteria  Proteobacteria  Gammaproteobacteria          Nevskiales   \n",
       "\n",
       "                family         genus                     sp  \\\n",
       "0  Erysipelotrichaceae    Absicoccus       Absicoccus porci   \n",
       "1               OUC007  Abyssibacter  Abyssibacter profundi   \n",
       "\n",
       "                 sp_gtdb                sp_ncbi  \n",
       "0       Absicoccus porci       Absicoccus porci  \n",
       "1  Abyssibacter profundi  Abyssibacter profundi  "
      ]
     },
     "execution_count": 67,
     "metadata": {},
     "output_type": "execute_result"
    }
   ],
   "source": [
    "gtdbN = pd.merge(gtdb, conv, how=\"inner\", left_on=\"sp\", right_on='sp_gtdb').sort_values('sp_ncbi').reset_index(drop=True)\n",
    "gtdbN.to_excel('Tax_gtdb-ncbi_v2.xlsx', index=False)\n",
    "\n",
    "gtdbN.head(2)"
   ]
  },
  {
   "cell_type": "markdown",
   "metadata": {},
   "source": [
    "### Random check merge table"
   ]
  },
  {
   "cell_type": "code",
   "execution_count": 68,
   "metadata": {},
   "outputs": [
    {
     "data": {
      "text/html": [
       "<div>\n",
       "<style scoped>\n",
       "    .dataframe tbody tr th:only-of-type {\n",
       "        vertical-align: middle;\n",
       "    }\n",
       "\n",
       "    .dataframe tbody tr th {\n",
       "        vertical-align: top;\n",
       "    }\n",
       "\n",
       "    .dataframe thead th {\n",
       "        text-align: right;\n",
       "    }\n",
       "</style>\n",
       "<table border=\"1\" class=\"dataframe\">\n",
       "  <thead>\n",
       "    <tr style=\"text-align: right;\">\n",
       "      <th></th>\n",
       "      <th>domain</th>\n",
       "      <th>phylum</th>\n",
       "      <th>class</th>\n",
       "      <th>order</th>\n",
       "      <th>family</th>\n",
       "      <th>genus</th>\n",
       "      <th>sp</th>\n",
       "      <th>sp_gtdb</th>\n",
       "      <th>sp_ncbi</th>\n",
       "    </tr>\n",
       "  </thead>\n",
       "  <tbody>\n",
       "    <tr>\n",
       "      <th>11343</th>\n",
       "      <td>Bacteria</td>\n",
       "      <td>Spirochaetota</td>\n",
       "      <td>Spirochaetia</td>\n",
       "      <td>Treponematales</td>\n",
       "      <td>Treponemataceae</td>\n",
       "      <td>Treponema_D</td>\n",
       "      <td>Treponema_D succinifaciens</td>\n",
       "      <td>Treponema_D succinifaciens</td>\n",
       "      <td>Treponema succinifaciens</td>\n",
       "    </tr>\n",
       "  </tbody>\n",
       "</table>\n",
       "</div>"
      ],
      "text/plain": [
       "         domain         phylum         class           order           family  \\\n",
       "11343  Bacteria  Spirochaetota  Spirochaetia  Treponematales  Treponemataceae   \n",
       "\n",
       "             genus                          sp                     sp_gtdb  \\\n",
       "11343  Treponema_D  Treponema_D succinifaciens  Treponema_D succinifaciens   \n",
       "\n",
       "                        sp_ncbi  \n",
       "11343  Treponema succinifaciens  "
      ]
     },
     "execution_count": 68,
     "metadata": {},
     "output_type": "execute_result"
    }
   ],
   "source": [
    "gtdbN.loc[gtdbN['sp_ncbi'] == 'Treponema succinifaciens']"
   ]
  }
 ],
 "metadata": {
  "kernelspec": {
   "display_name": "Python 3",
   "language": "python",
   "name": "python3"
  },
  "language_info": {
   "codemirror_mode": {
    "name": "ipython",
    "version": 3
   },
   "file_extension": ".py",
   "mimetype": "text/x-python",
   "name": "python",
   "nbconvert_exporter": "python",
   "pygments_lexer": "ipython3",
   "version": "3.7.0"
  }
 },
 "nbformat": 4,
 "nbformat_minor": 2
}
