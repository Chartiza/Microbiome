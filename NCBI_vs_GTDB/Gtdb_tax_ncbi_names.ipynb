{
 "cells": [
  {
   "cell_type": "markdown",
   "metadata": {},
   "source": [
    "## Script is designed to create the taxonomy table file\n",
    "\n",
    "Output is: <br>\n",
    "\n",
    "1. <i> File \"Tax_gtdb.csv\" <br></i>\n",
    "Taxonomy table file. Taxonomy was taken from last GTDB release (release207/207.0) <br>\n",
    "https://data.ace.uq.edu.au/public/gtdb/data/releases/release207/207.0/ <br>\n",
    "<br>\n",
    "2. <i> File \"Tax_gtdb-ncbi.csv\" <br></i>\n",
    "Taxonomy table file. The table includes the gtdb taxonomy and ncbi names for all species for which I find a correspondence between dtdb and ncbi spesies names. \n",
    "Gtdb species names vs ncbi species names match files were taken from here: <br>\n",
    "https://data.gtdb.ecogenomic.org/releases/latest/auxillary_files/\n"
   ]
  },
  {
   "cell_type": "code",
   "execution_count": 2,
   "metadata": {},
   "outputs": [],
   "source": [
    "# import packages\n",
    "import matplotlib.pyplot as plt\n",
    "import matplotlib.pyplot as plt\n",
    "from matplotlib_venn import venn2\n",
    "from matplotlib_venn import venn3\n",
    "import pandas as pd\n",
    "import seaborn as sns \n",
    "import os\n",
    "import glob\n",
    "import plotly.express as px\n",
    "import numpy as np"
   ]
  },
  {
   "cell_type": "markdown",
   "metadata": {},
   "source": [
    "## Tax_gtdb"
   ]
  },
  {
   "cell_type": "code",
   "execution_count": 7,
   "metadata": {},
   "outputs": [
    {
     "data": {
      "text/html": [
       "<div>\n",
       "<style scoped>\n",
       "    .dataframe tbody tr th:only-of-type {\n",
       "        vertical-align: middle;\n",
       "    }\n",
       "\n",
       "    .dataframe tbody tr th {\n",
       "        vertical-align: top;\n",
       "    }\n",
       "\n",
       "    .dataframe thead th {\n",
       "        text-align: right;\n",
       "    }\n",
       "</style>\n",
       "<table border=\"1\" class=\"dataframe\">\n",
       "  <thead>\n",
       "    <tr style=\"text-align: right;\">\n",
       "      <th></th>\n",
       "      <th>domain</th>\n",
       "      <th>phylum</th>\n",
       "      <th>class</th>\n",
       "      <th>order</th>\n",
       "      <th>family</th>\n",
       "      <th>genus</th>\n",
       "      <th>sp</th>\n",
       "    </tr>\n",
       "  </thead>\n",
       "  <tbody>\n",
       "    <tr>\n",
       "      <th>0</th>\n",
       "      <td>Bacteria</td>\n",
       "      <td>Pseudomonadota</td>\n",
       "      <td>Gammaproteobacteria</td>\n",
       "      <td>Enterobacterales</td>\n",
       "      <td>Enterobacteriaceae</td>\n",
       "      <td>Escherichia</td>\n",
       "      <td>Escherichia coli</td>\n",
       "    </tr>\n",
       "    <tr>\n",
       "      <th>33849</th>\n",
       "      <td>Bacteria</td>\n",
       "      <td>Pseudomonadota</td>\n",
       "      <td>Gammaproteobacteria</td>\n",
       "      <td>Enterobacterales</td>\n",
       "      <td>Enterobacteriaceae</td>\n",
       "      <td>Klebsiella</td>\n",
       "      <td>Klebsiella pneumoniae</td>\n",
       "    </tr>\n",
       "  </tbody>\n",
       "</table>\n",
       "</div>"
      ],
      "text/plain": [
       "         domain          phylum                class             order  \\\n",
       "0      Bacteria  Pseudomonadota  Gammaproteobacteria  Enterobacterales   \n",
       "33849  Bacteria  Pseudomonadota  Gammaproteobacteria  Enterobacterales   \n",
       "\n",
       "                   family        genus                     sp  \n",
       "0      Enterobacteriaceae  Escherichia       Escherichia coli  \n",
       "33849  Enterobacteriaceae   Klebsiella  Klebsiella pneumoniae  "
      ]
     },
     "execution_count": 7,
     "metadata": {},
     "output_type": "execute_result"
    }
   ],
   "source": [
    "path='/Users/katerynapantiukh/Documents/1MyDisk/Code/Microbiome/'\n",
    "colnames = ['dom','phylum','class','order','family','genus','sp']\n",
    "\n",
    "#bac = pd.read_csv('input/bac120_taxonomy_r207.tsv', sep=';', names=colnames, header=None)\n",
    "#arh = pd.read_csv('input/ar53_taxonomy_r207.tsv', sep=';', names=colnames, header=None)\n",
    "bac = pd.read_csv(str(path)+'/gtdb_vizualization/input/bac120_taxonomy_r214.tsv', sep=';', names=colnames, header=None)\n",
    "arh = pd.read_csv(str(path)+'gtdb_vizualization/input/ar53_taxonomy_r214.tsv', sep=';', names=colnames, header=None)\n",
    "\n",
    "# modify bac120 table\n",
    "bac['domain'] = bac['dom'].str.split('__', expand=True)[1]\n",
    "bac['phylum'] = bac['phylum'].str.replace(r'p__', '')\n",
    "bac['class'] = bac['class'].str.replace(r'c__', '')\n",
    "bac['order'] = bac['order'].str.replace(r'o__', '')\n",
    "bac['family'] = bac['family'].str.replace(r'f__', '')\n",
    "bac['genus'] = bac['genus'].str.replace(r'g__', '')\n",
    "bac['sp'] = bac['sp'].str.replace(r's__', '')\n",
    "bac = bac[['domain','phylum','class','order','family','genus','sp']]\n",
    "bac = bac.drop_duplicates()\n",
    "\n",
    "# modify arch table\n",
    "arh['domain'] = arh['dom'].str.split('__', expand=True)[1]\n",
    "arh['phylum'] = arh['phylum'].str.replace(r'p__', '')\n",
    "arh['class'] = arh['class'].str.replace(r'c__', '')\n",
    "arh['order'] = arh['order'].str.replace(r'o__', '')\n",
    "arh['family'] = arh['family'].str.replace(r'f__', '')\n",
    "arh['genus'] = arh['genus'].str.replace(r'g__', '')\n",
    "arh['sp'] = arh['sp'].str.replace(r's__', '')\n",
    "arh = arh[['domain','phylum','class','order','family','genus','sp']]\n",
    "arh = arh.drop_duplicates()\n",
    "\n",
    "frames = [bac,arh]\n",
    "gtdb = pd.concat(frames)\n",
    "\n",
    "gtdb.to_excel('Tax_gtdb.xlsx', index=False)\n",
    "gtdb.head(2)"
   ]
  },
  {
   "cell_type": "code",
   "execution_count": 8,
   "metadata": {},
   "outputs": [
    {
     "name": "stdout",
     "output_type": "stream",
     "text": [
      "Total bacteria species number in GTDB is  80789\n"
     ]
    }
   ],
   "source": [
    "print('Total bacteria species number in GTDB is ',len(gtdb.loc[gtdb['domain'] == 'Bacteria']))"
   ]
  },
  {
   "cell_type": "markdown",
   "metadata": {},
   "source": [
    "## Tax_gtdb-ncbi"
   ]
  },
  {
   "cell_type": "code",
   "execution_count": 4,
   "metadata": {},
   "outputs": [
    {
     "data": {
      "text/html": [
       "<div>\n",
       "<style scoped>\n",
       "    .dataframe tbody tr th:only-of-type {\n",
       "        vertical-align: middle;\n",
       "    }\n",
       "\n",
       "    .dataframe tbody tr th {\n",
       "        vertical-align: top;\n",
       "    }\n",
       "\n",
       "    .dataframe thead th {\n",
       "        text-align: right;\n",
       "    }\n",
       "</style>\n",
       "<table border=\"1\" class=\"dataframe\">\n",
       "  <thead>\n",
       "    <tr style=\"text-align: right;\">\n",
       "      <th></th>\n",
       "      <th>sp_gtdb</th>\n",
       "      <th>sp_ncbi</th>\n",
       "    </tr>\n",
       "  </thead>\n",
       "  <tbody>\n",
       "    <tr>\n",
       "      <th>0</th>\n",
       "      <td>Zymomonas pomaceae</td>\n",
       "      <td>Zymomonas mobilis</td>\n",
       "    </tr>\n",
       "    <tr>\n",
       "      <th>1</th>\n",
       "      <td>Zymomonas mobilis_B</td>\n",
       "      <td>Zymomonas mobilis</td>\n",
       "    </tr>\n",
       "  </tbody>\n",
       "</table>\n",
       "</div>"
      ],
      "text/plain": [
       "               sp_gtdb            sp_ncbi\n",
       "0   Zymomonas pomaceae  Zymomonas mobilis\n",
       "1  Zymomonas mobilis_B  Zymomonas mobilis"
      ]
     },
     "execution_count": 4,
     "metadata": {},
     "output_type": "execute_result"
    }
   ],
   "source": [
    "# исходный файл соотыетвия\n",
    "convB = pd.read_excel('input/gtdb_vs_ncbi_bacteria.xlsx', sheet_name='names')\n",
    "\n",
    "convB['top_sp_ncbi'] = convB['List of NCBI species'].str.split(',', expand=True)[0]\n",
    "convB['GTDB R207 species'] = convB['GTDB R207 species'].str.replace(r's__', '')\n",
    "convB['top_sp_ncbi'] = convB['top_sp_ncbi'].str.replace(r's__', '')\n",
    "convB.rename(columns = {'GTDB R207 species':'sp_gtdb'}, inplace = True)\n",
    "new = convB.top_sp_ncbi.str.rsplit(' ', 1, expand=True)\\\n",
    "  .rename(columns=lambda x: 'col{}'.format(x + 1))\n",
    "convB['sp_ncbi'] = new['col1']\n",
    "\n",
    "convB = convB[['sp_gtdb','sp_ncbi']]\n",
    "convB = convB.loc[convB['sp_ncbi'] != \"(g__)\"]\n",
    "\n",
    "convB.head(2)"
   ]
  },
  {
   "cell_type": "code",
   "execution_count": 11,
   "metadata": {},
   "outputs": [
    {
     "data": {
      "text/html": [
       "<div>\n",
       "<style scoped>\n",
       "    .dataframe tbody tr th:only-of-type {\n",
       "        vertical-align: middle;\n",
       "    }\n",
       "\n",
       "    .dataframe tbody tr th {\n",
       "        vertical-align: top;\n",
       "    }\n",
       "\n",
       "    .dataframe thead th {\n",
       "        text-align: right;\n",
       "    }\n",
       "</style>\n",
       "<table border=\"1\" class=\"dataframe\">\n",
       "  <thead>\n",
       "    <tr style=\"text-align: right;\">\n",
       "      <th></th>\n",
       "      <th>GTDB R214 species</th>\n",
       "      <th>Number of genomes</th>\n",
       "      <th>Number of NCBI species</th>\n",
       "      <th>List of NCBI species</th>\n",
       "    </tr>\n",
       "  </thead>\n",
       "  <tbody>\n",
       "    <tr>\n",
       "      <th>0</th>\n",
       "      <td>s__Escherichia coli</td>\n",
       "      <td>33849</td>\n",
       "      <td>12</td>\n",
       "      <td>s__Escherichia coli 91.98%, s__Shigella sonnei...</td>\n",
       "    </tr>\n",
       "    <tr>\n",
       "      <th>1</th>\n",
       "      <td>s__Klebsiella pneumoniae</td>\n",
       "      <td>14975</td>\n",
       "      <td>7</td>\n",
       "      <td>s__Klebsiella pneumoniae 99.73%, s__(g__) 0.21...</td>\n",
       "    </tr>\n",
       "    <tr>\n",
       "      <th>2</th>\n",
       "      <td>s__Staphylococcus aureus</td>\n",
       "      <td>14959</td>\n",
       "      <td>3</td>\n",
       "      <td>s__Staphylococcus aureus 99.64%, s__(g__) 0.35...</td>\n",
       "    </tr>\n",
       "    <tr>\n",
       "      <th>3</th>\n",
       "      <td>s__Salmonella enterica</td>\n",
       "      <td>13832</td>\n",
       "      <td>2</td>\n",
       "      <td>s__Salmonella enterica 97.27%, s__(g__) 2.73%</td>\n",
       "    </tr>\n",
       "    <tr>\n",
       "      <th>4</th>\n",
       "      <td>s__Streptococcus pneumoniae</td>\n",
       "      <td>8895</td>\n",
       "      <td>2</td>\n",
       "      <td>s__Streptococcus pneumoniae 99.99%, s__Haemoph...</td>\n",
       "    </tr>\n",
       "    <tr>\n",
       "      <th>...</th>\n",
       "      <td>...</td>\n",
       "      <td>...</td>\n",
       "      <td>...</td>\n",
       "      <td>...</td>\n",
       "    </tr>\n",
       "    <tr>\n",
       "      <th>71940</th>\n",
       "      <td>s__Alistipes sp015059865</td>\n",
       "      <td>1</td>\n",
       "      <td>1</td>\n",
       "      <td>s__(g__) 100.0%</td>\n",
       "    </tr>\n",
       "    <tr>\n",
       "      <th>71941</th>\n",
       "      <td>s__Caproiciproducens sp900546895</td>\n",
       "      <td>1</td>\n",
       "      <td>1</td>\n",
       "      <td>s__(g__) 100.0%</td>\n",
       "    </tr>\n",
       "    <tr>\n",
       "      <th>71942</th>\n",
       "      <td>s__RGIG8775 sp017621015</td>\n",
       "      <td>1</td>\n",
       "      <td>1</td>\n",
       "      <td>s__(g__) 100.0%</td>\n",
       "    </tr>\n",
       "    <tr>\n",
       "      <th>71943</th>\n",
       "      <td>s__S144-17 sp015486425</td>\n",
       "      <td>1</td>\n",
       "      <td>1</td>\n",
       "      <td>s__(g__) 100.0%</td>\n",
       "    </tr>\n",
       "    <tr>\n",
       "      <th>71944</th>\n",
       "      <td>s__Faecousia sp934565415</td>\n",
       "      <td>1</td>\n",
       "      <td>1</td>\n",
       "      <td>s__(g__) 100.0%</td>\n",
       "    </tr>\n",
       "  </tbody>\n",
       "</table>\n",
       "<p>71945 rows × 4 columns</p>\n",
       "</div>"
      ],
      "text/plain": [
       "                      GTDB R214 species  Number of genomes  \\\n",
       "0                   s__Escherichia coli              33849   \n",
       "1              s__Klebsiella pneumoniae              14975   \n",
       "2              s__Staphylococcus aureus              14959   \n",
       "3                s__Salmonella enterica              13832   \n",
       "4           s__Streptococcus pneumoniae               8895   \n",
       "...                                 ...                ...   \n",
       "71940          s__Alistipes sp015059865                  1   \n",
       "71941  s__Caproiciproducens sp900546895                  1   \n",
       "71942           s__RGIG8775 sp017621015                  1   \n",
       "71943            s__S144-17 sp015486425                  1   \n",
       "71944          s__Faecousia sp934565415                  1   \n",
       "\n",
       "       Number of NCBI species  \\\n",
       "0                          12   \n",
       "1                           7   \n",
       "2                           3   \n",
       "3                           2   \n",
       "4                           2   \n",
       "...                       ...   \n",
       "71940                       1   \n",
       "71941                       1   \n",
       "71942                       1   \n",
       "71943                       1   \n",
       "71944                       1   \n",
       "\n",
       "                                    List of NCBI species  \n",
       "0      s__Escherichia coli 91.98%, s__Shigella sonnei...  \n",
       "1      s__Klebsiella pneumoniae 99.73%, s__(g__) 0.21...  \n",
       "2      s__Staphylococcus aureus 99.64%, s__(g__) 0.35...  \n",
       "3          s__Salmonella enterica 97.27%, s__(g__) 2.73%  \n",
       "4      s__Streptococcus pneumoniae 99.99%, s__Haemoph...  \n",
       "...                                                  ...  \n",
       "71940                                    s__(g__) 100.0%  \n",
       "71941                                    s__(g__) 100.0%  \n",
       "71942                                    s__(g__) 100.0%  \n",
       "71943                                    s__(g__) 100.0%  \n",
       "71944                                    s__(g__) 100.0%  \n",
       "\n",
       "[71945 rows x 4 columns]"
      ]
     },
     "execution_count": 11,
     "metadata": {},
     "output_type": "execute_result"
    }
   ],
   "source": [
    "rel = '214'\n",
    "convB = pd.read_excel('input/gtdb_vs_ncbi_r'+str(rel)+'_bacteria.xlsx', sheet_name='Species')\n",
    "convB"
   ]
  },
  {
   "cell_type": "code",
   "execution_count": 19,
   "metadata": {},
   "outputs": [
    {
     "name": "stdout",
     "output_type": "stream",
     "text": [
      "Unique bacteria species by gtdb -  71945\n"
     ]
    },
    {
     "name": "stderr",
     "output_type": "stream",
     "text": [
      "/var/folders/5j/pvj6k02n3mn9ztpn77vjtfzw0000gn/T/ipykernel_85898/2449744670.py:7: FutureWarning: In a future version of pandas all arguments of StringMethods.rsplit except for the argument 'pat' will be keyword-only.\n",
      "  new = convB.ncbi.str.rsplit(' ', 1, expand=True)\\\n"
     ]
    },
    {
     "data": {
      "text/html": [
       "<div>\n",
       "<style scoped>\n",
       "    .dataframe tbody tr th:only-of-type {\n",
       "        vertical-align: middle;\n",
       "    }\n",
       "\n",
       "    .dataframe tbody tr th {\n",
       "        vertical-align: top;\n",
       "    }\n",
       "\n",
       "    .dataframe thead th {\n",
       "        text-align: right;\n",
       "    }\n",
       "</style>\n",
       "<table border=\"1\" class=\"dataframe\">\n",
       "  <thead>\n",
       "    <tr style=\"text-align: right;\">\n",
       "      <th></th>\n",
       "      <th>sp_gtdb</th>\n",
       "      <th>sp_ncbi</th>\n",
       "    </tr>\n",
       "  </thead>\n",
       "  <tbody>\n",
       "    <tr>\n",
       "      <th>11970</th>\n",
       "      <td>Bacillus_A pseudomycoides_B</td>\n",
       "      <td>Bacillus pseudomycoides</td>\n",
       "    </tr>\n",
       "    <tr>\n",
       "      <th>11971</th>\n",
       "      <td>Dyella_B choica</td>\n",
       "      <td>Dyella choica</td>\n",
       "    </tr>\n",
       "  </tbody>\n",
       "</table>\n",
       "</div>"
      ],
      "text/plain": [
       "                           sp_gtdb                  sp_ncbi\n",
       "11970  Bacillus_A pseudomycoides_B  Bacillus pseudomycoides\n",
       "11971              Dyella_B choica            Dyella choica"
      ]
     },
     "execution_count": 19,
     "metadata": {},
     "output_type": "execute_result"
    }
   ],
   "source": [
    "# for release 214!!! Change files for the new releases\n",
    "rel = '214'\n",
    "convB = pd.read_excel('input/gtdb_vs_ncbi_r'+str(rel)+'_bacteria.xlsx', sheet_name='Species')\n",
    "print('Unique bacteria species by gtdb - ',len(convB['GTDB R214 species'].unique()))\n",
    "\n",
    "convB.rename(columns = {'GTDB R214 species':'sp_gtdb',\"List of NCBI species\":'ncbi'}, inplace = True)\n",
    "new = convB.ncbi.str.rsplit(' ', 1, expand=True)\\\n",
    "  .rename(columns=lambda x: 'col{}'.format(x + 1))\n",
    "convB['sp_ncbi'] = new['col1']\n",
    "convB['sp_ncbi'] = convB['sp_ncbi'].str.replace(r's__', '')\n",
    "convB['sp_gtdb'] = convB['sp_gtdb'].str.replace(r's__', '')\n",
    "convB = convB[['sp_gtdb','sp_ncbi']]\n",
    "convB = convB.loc[convB['sp_ncbi'] != \"(g__)\"]\n",
    "convB = convB.reset_index(drop=True)\n",
    "\n",
    "convB.tail(2)"
   ]
  },
  {
   "cell_type": "code",
   "execution_count": 16,
   "metadata": {},
   "outputs": [
    {
     "name": "stdout",
     "output_type": "stream",
     "text": [
      "Unique archaea species by gtdb -  4043\n"
     ]
    },
    {
     "name": "stderr",
     "output_type": "stream",
     "text": [
      "/var/folders/5j/pvj6k02n3mn9ztpn77vjtfzw0000gn/T/ipykernel_85898/1251250436.py:8: FutureWarning: In a future version of pandas all arguments of StringMethods.rsplit except for the argument 'pat' will be keyword-only.\n",
      "  new = convA.top_sp_ncbi.str.rsplit(' ', 1, expand=True)\\\n"
     ]
    },
    {
     "data": {
      "text/html": [
       "<div>\n",
       "<style scoped>\n",
       "    .dataframe tbody tr th:only-of-type {\n",
       "        vertical-align: middle;\n",
       "    }\n",
       "\n",
       "    .dataframe tbody tr th {\n",
       "        vertical-align: top;\n",
       "    }\n",
       "\n",
       "    .dataframe thead th {\n",
       "        text-align: right;\n",
       "    }\n",
       "</style>\n",
       "<table border=\"1\" class=\"dataframe\">\n",
       "  <thead>\n",
       "    <tr style=\"text-align: right;\">\n",
       "      <th></th>\n",
       "      <th>sp_gtdb</th>\n",
       "      <th>sp_ncbi</th>\n",
       "    </tr>\n",
       "  </thead>\n",
       "  <tbody>\n",
       "    <tr>\n",
       "      <th>240</th>\n",
       "      <td>Methanospirillum hungatei_A</td>\n",
       "      <td>Methanospirillum hungatei</td>\n",
       "    </tr>\n",
       "    <tr>\n",
       "      <th>241</th>\n",
       "      <td>Methanohalarchaeum thermophilum</td>\n",
       "      <td>Candidatus Methanohalarchaeum thermophilum</td>\n",
       "    </tr>\n",
       "  </tbody>\n",
       "</table>\n",
       "</div>"
      ],
      "text/plain": [
       "                             sp_gtdb  \\\n",
       "240      Methanospirillum hungatei_A   \n",
       "241  Methanohalarchaeum thermophilum   \n",
       "\n",
       "                                        sp_ncbi  \n",
       "240                   Methanospirillum hungatei  \n",
       "241  Candidatus Methanohalarchaeum thermophilum  "
      ]
     },
     "execution_count": 16,
     "metadata": {},
     "output_type": "execute_result"
    }
   ],
   "source": [
    "convA = pd.read_excel('input/gtdb_vs_ncbi_r214_archaea.xlsx', sheet_name='Species')\n",
    "print('Unique archaea species by gtdb - ',len(convA['GTDB R214 species'].unique()))\n",
    "\n",
    "convA['top_sp_ncbi'] = convA['List of NCBI species'].str.split(',', expand=True)[0]\n",
    "convA['GTDB R214 species'] = convA['GTDB R214 species'].str.replace(r's__', '')\n",
    "convA['top_sp_ncbi'] = convA['top_sp_ncbi'].str.replace(r's__', '')\n",
    "convA.rename(columns = {'GTDB R214 species':'sp_gtdb'}, inplace = True)\n",
    "new = convA.top_sp_ncbi.str.rsplit(' ', 1, expand=True)\\\n",
    "  .rename(columns=lambda x: 'col{}'.format(x + 1))\n",
    "convA['sp_ncbi'] = new['col1']\n",
    "\n",
    "convA = convA[['sp_gtdb','sp_ncbi']]\n",
    "convA = convA.loc[convA['sp_ncbi'] != \"(g__)\"]\n",
    "convA = convA.reset_index(drop=True)\n",
    "\n",
    "convA.tail(2)"
   ]
  },
  {
   "cell_type": "code",
   "execution_count": 20,
   "metadata": {},
   "outputs": [
    {
     "name": "stdout",
     "output_type": "stream",
     "text": [
      "Unique species by gtdb -  12214\n"
     ]
    },
    {
     "data": {
      "text/html": [
       "<div>\n",
       "<style scoped>\n",
       "    .dataframe tbody tr th:only-of-type {\n",
       "        vertical-align: middle;\n",
       "    }\n",
       "\n",
       "    .dataframe tbody tr th {\n",
       "        vertical-align: top;\n",
       "    }\n",
       "\n",
       "    .dataframe thead th {\n",
       "        text-align: right;\n",
       "    }\n",
       "</style>\n",
       "<table border=\"1\" class=\"dataframe\">\n",
       "  <thead>\n",
       "    <tr style=\"text-align: right;\">\n",
       "      <th></th>\n",
       "      <th>sp_gtdb</th>\n",
       "      <th>sp_ncbi</th>\n",
       "    </tr>\n",
       "  </thead>\n",
       "  <tbody>\n",
       "    <tr>\n",
       "      <th>12212</th>\n",
       "      <td>Bacillus_A pseudomycoides_B</td>\n",
       "      <td>Bacillus pseudomycoides</td>\n",
       "    </tr>\n",
       "    <tr>\n",
       "      <th>12213</th>\n",
       "      <td>Dyella_B choica</td>\n",
       "      <td>Dyella choica</td>\n",
       "    </tr>\n",
       "  </tbody>\n",
       "</table>\n",
       "</div>"
      ],
      "text/plain": [
       "                           sp_gtdb                  sp_ncbi\n",
       "12212  Bacillus_A pseudomycoides_B  Bacillus pseudomycoides\n",
       "12213              Dyella_B choica            Dyella choica"
      ]
     },
     "execution_count": 20,
     "metadata": {},
     "output_type": "execute_result"
    }
   ],
   "source": [
    "frames = [convA,convB]\n",
    "conv = pd.concat(frames)\n",
    "conv = conv.reset_index(drop=True)\n",
    "\n",
    "print('Unique species by gtdb - ',len(conv['sp_gtdb'].unique()))\n",
    "conv.tail(2)"
   ]
  },
  {
   "cell_type": "code",
   "execution_count": 21,
   "metadata": {},
   "outputs": [
    {
     "data": {
      "text/html": [
       "<div>\n",
       "<style scoped>\n",
       "    .dataframe tbody tr th:only-of-type {\n",
       "        vertical-align: middle;\n",
       "    }\n",
       "\n",
       "    .dataframe tbody tr th {\n",
       "        vertical-align: top;\n",
       "    }\n",
       "\n",
       "    .dataframe thead th {\n",
       "        text-align: right;\n",
       "    }\n",
       "</style>\n",
       "<table border=\"1\" class=\"dataframe\">\n",
       "  <thead>\n",
       "    <tr style=\"text-align: right;\">\n",
       "      <th></th>\n",
       "      <th>domain</th>\n",
       "      <th>phylum</th>\n",
       "      <th>class</th>\n",
       "      <th>order</th>\n",
       "      <th>family</th>\n",
       "      <th>genus</th>\n",
       "      <th>sp</th>\n",
       "      <th>sp_gtdb</th>\n",
       "      <th>sp_ncbi</th>\n",
       "    </tr>\n",
       "  </thead>\n",
       "  <tbody>\n",
       "    <tr>\n",
       "      <th>0</th>\n",
       "      <td>Bacteria</td>\n",
       "      <td>Pseudomonadota</td>\n",
       "      <td>Gammaproteobacteria</td>\n",
       "      <td>Pseudomonadales</td>\n",
       "      <td>Pseudomonadaceae</td>\n",
       "      <td>Pseudomonas_E</td>\n",
       "      <td>Pseudomonas_E mandelii_C</td>\n",
       "      <td>Pseudomonas_E mandelii_C</td>\n",
       "      <td>(g__) 25.0%, Pseudomonas mandelii 25.0%, Pseud...</td>\n",
       "    </tr>\n",
       "    <tr>\n",
       "      <th>1</th>\n",
       "      <td>Bacteria</td>\n",
       "      <td>Pseudomonadota</td>\n",
       "      <td>Gammaproteobacteria</td>\n",
       "      <td>Burkholderiales</td>\n",
       "      <td>Neisseriaceae</td>\n",
       "      <td>Neisseria</td>\n",
       "      <td>Neisseria sp000186165</td>\n",
       "      <td>Neisseria sp000186165</td>\n",
       "      <td>(g__) 30.3%, Neisseria subflava 18.18%, Neisse...</td>\n",
       "    </tr>\n",
       "  </tbody>\n",
       "</table>\n",
       "</div>"
      ],
      "text/plain": [
       "     domain          phylum                class            order  \\\n",
       "0  Bacteria  Pseudomonadota  Gammaproteobacteria  Pseudomonadales   \n",
       "1  Bacteria  Pseudomonadota  Gammaproteobacteria  Burkholderiales   \n",
       "\n",
       "             family          genus                        sp  \\\n",
       "0  Pseudomonadaceae  Pseudomonas_E  Pseudomonas_E mandelii_C   \n",
       "1     Neisseriaceae      Neisseria     Neisseria sp000186165   \n",
       "\n",
       "                    sp_gtdb                                            sp_ncbi  \n",
       "0  Pseudomonas_E mandelii_C  (g__) 25.0%, Pseudomonas mandelii 25.0%, Pseud...  \n",
       "1     Neisseria sp000186165  (g__) 30.3%, Neisseria subflava 18.18%, Neisse...  "
      ]
     },
     "execution_count": 21,
     "metadata": {},
     "output_type": "execute_result"
    }
   ],
   "source": [
    "gtdbN = pd.merge(gtdb, conv, how=\"inner\", left_on=\"sp\", right_on='sp_gtdb').sort_values('sp_ncbi').reset_index(drop=True)\n",
    "gtdbN.to_excel('Tax_gtdb-ncbi_v2.xlsx', index=False)\n",
    "\n",
    "gtdbN.head(2)"
   ]
  },
  {
   "cell_type": "markdown",
   "metadata": {},
   "source": [
    "### Random check merge table"
   ]
  },
  {
   "cell_type": "code",
   "execution_count": 68,
   "metadata": {},
   "outputs": [
    {
     "data": {
      "text/html": [
       "<div>\n",
       "<style scoped>\n",
       "    .dataframe tbody tr th:only-of-type {\n",
       "        vertical-align: middle;\n",
       "    }\n",
       "\n",
       "    .dataframe tbody tr th {\n",
       "        vertical-align: top;\n",
       "    }\n",
       "\n",
       "    .dataframe thead th {\n",
       "        text-align: right;\n",
       "    }\n",
       "</style>\n",
       "<table border=\"1\" class=\"dataframe\">\n",
       "  <thead>\n",
       "    <tr style=\"text-align: right;\">\n",
       "      <th></th>\n",
       "      <th>domain</th>\n",
       "      <th>phylum</th>\n",
       "      <th>class</th>\n",
       "      <th>order</th>\n",
       "      <th>family</th>\n",
       "      <th>genus</th>\n",
       "      <th>sp</th>\n",
       "      <th>sp_gtdb</th>\n",
       "      <th>sp_ncbi</th>\n",
       "    </tr>\n",
       "  </thead>\n",
       "  <tbody>\n",
       "    <tr>\n",
       "      <th>11343</th>\n",
       "      <td>Bacteria</td>\n",
       "      <td>Spirochaetota</td>\n",
       "      <td>Spirochaetia</td>\n",
       "      <td>Treponematales</td>\n",
       "      <td>Treponemataceae</td>\n",
       "      <td>Treponema_D</td>\n",
       "      <td>Treponema_D succinifaciens</td>\n",
       "      <td>Treponema_D succinifaciens</td>\n",
       "      <td>Treponema succinifaciens</td>\n",
       "    </tr>\n",
       "  </tbody>\n",
       "</table>\n",
       "</div>"
      ],
      "text/plain": [
       "         domain         phylum         class           order           family  \\\n",
       "11343  Bacteria  Spirochaetota  Spirochaetia  Treponematales  Treponemataceae   \n",
       "\n",
       "             genus                          sp                     sp_gtdb  \\\n",
       "11343  Treponema_D  Treponema_D succinifaciens  Treponema_D succinifaciens   \n",
       "\n",
       "                        sp_ncbi  \n",
       "11343  Treponema succinifaciens  "
      ]
     },
     "execution_count": 68,
     "metadata": {},
     "output_type": "execute_result"
    }
   ],
   "source": [
    "gtdbN.loc[gtdbN['sp_ncbi'] == 'Treponema succinifaciens']"
   ]
  }
 ],
 "metadata": {
  "kernelspec": {
   "display_name": "Python 3",
   "language": "python",
   "name": "python3"
  },
  "language_info": {
   "codemirror_mode": {
    "name": "ipython",
    "version": 3
   },
   "file_extension": ".py",
   "mimetype": "text/x-python",
   "name": "python",
   "nbconvert_exporter": "python",
   "pygments_lexer": "ipython3",
   "version": "3.9.6"
  }
 },
 "nbformat": 4,
 "nbformat_minor": 2
}
