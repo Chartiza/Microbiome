{
 "cells": [
  {
   "cell_type": "markdown",
   "metadata": {},
   "source": [
    "## Script is designed to create the taxonomy table file\n",
    "\n",
    "Output is: <br>\n",
    "\n",
    "1. <i> File \"Tax_gtdb.csv\" <br></i>\n",
    "Taxonomy table file. Taxonomy was taken from last GTDB release (release207/207.0) <br>\n",
    "https://data.ace.uq.edu.au/public/gtdb/data/releases/release207/207.0/ <br>\n",
    "<br>\n",
    "2. <i> File \"Tax_gtdb-ncbi.csv\" <br></i>\n",
    "Taxonomy table file. The table includes the gtdb taxonomy and ncbi names for all species for which I find a correspondence between dtdb and ncbi spesies names. \n",
    "Gtdb species names vs ncbi species names match files were taken from here: <br>\n",
    "https://data.gtdb.ecogenomic.org/releases/latest/auxillary_files/\n"
   ]
  },
  {
   "cell_type": "code",
   "execution_count": 2,
   "metadata": {},
   "outputs": [],
   "source": [
    "# import packages\n",
    "import matplotlib.pyplot as plt\n",
    "import pandas as pd"
   ]
  },
  {
   "cell_type": "markdown",
   "metadata": {},
   "source": [
    "## Tax_gtdb"
   ]
  },
  {
   "cell_type": "code",
   "execution_count": 40,
   "metadata": {},
   "outputs": [
    {
     "data": {
      "text/html": [
       "<div>\n",
       "<style scoped>\n",
       "    .dataframe tbody tr th:only-of-type {\n",
       "        vertical-align: middle;\n",
       "    }\n",
       "\n",
       "    .dataframe tbody tr th {\n",
       "        vertical-align: top;\n",
       "    }\n",
       "\n",
       "    .dataframe thead th {\n",
       "        text-align: right;\n",
       "    }\n",
       "</style>\n",
       "<table border=\"1\" class=\"dataframe\">\n",
       "  <thead>\n",
       "    <tr style=\"text-align: right;\">\n",
       "      <th></th>\n",
       "      <th>domain</th>\n",
       "      <th>phylum</th>\n",
       "      <th>class</th>\n",
       "      <th>order</th>\n",
       "      <th>family</th>\n",
       "      <th>genus</th>\n",
       "      <th>sp</th>\n",
       "    </tr>\n",
       "  </thead>\n",
       "  <tbody>\n",
       "    <tr>\n",
       "      <th>0</th>\n",
       "      <td>Bacteria</td>\n",
       "      <td>Pseudomonadota</td>\n",
       "      <td>Gammaproteobacteria</td>\n",
       "      <td>Enterobacterales</td>\n",
       "      <td>Enterobacteriaceae</td>\n",
       "      <td>Escherichia</td>\n",
       "      <td>Escherichia coli</td>\n",
       "    </tr>\n",
       "    <tr>\n",
       "      <th>33849</th>\n",
       "      <td>Bacteria</td>\n",
       "      <td>Pseudomonadota</td>\n",
       "      <td>Gammaproteobacteria</td>\n",
       "      <td>Enterobacterales</td>\n",
       "      <td>Enterobacteriaceae</td>\n",
       "      <td>Klebsiella</td>\n",
       "      <td>Klebsiella pneumoniae</td>\n",
       "    </tr>\n",
       "  </tbody>\n",
       "</table>\n",
       "</div>"
      ],
      "text/plain": [
       "         domain          phylum                class             order  \\\n",
       "0      Bacteria  Pseudomonadota  Gammaproteobacteria  Enterobacterales   \n",
       "33849  Bacteria  Pseudomonadota  Gammaproteobacteria  Enterobacterales   \n",
       "\n",
       "                   family        genus                     sp  \n",
       "0      Enterobacteriaceae  Escherichia       Escherichia coli  \n",
       "33849  Enterobacteriaceae   Klebsiella  Klebsiella pneumoniae  "
      ]
     },
     "execution_count": 40,
     "metadata": {},
     "output_type": "execute_result"
    }
   ],
   "source": [
    "path='/Users/katerynapantiukh/Documents/1MyDisk/Code/Microbiome/'\n",
    "colnames = ['dom','phylum','class','order','family','genus','sp']\n",
    "\n",
    "# release 207\n",
    "#bac = pd.read_csv('input/bac120_taxonomy_r207.tsv', sep=';', names=colnames, header=None)\n",
    "#arh = pd.read_csv('input/ar53_taxonomy_r207.tsv', sep=';', names=colnames, header=None)\n",
    "\n",
    "# release 214\n",
    "bac = pd.read_csv(str(path)+'/gtdb_vizualization/input/bac120_taxonomy_r214.tsv', sep=';', names=colnames, header=None)\n",
    "arh = pd.read_csv(str(path)+'gtdb_vizualization/input/ar53_taxonomy_r214.tsv', sep=';', names=colnames, header=None)\n",
    "\n",
    "# release 220\n",
    "#bac = pd.read_csv(str(path)+'/gtdb_vizualization/input/bac120_taxonomy_r220.tsv', sep=';', names=colnames, header=None)\n",
    "#arh = pd.read_csv(str(path)+'gtdb_vizualization/input/ar53_taxonomy_r220.tsv', sep=';', names=colnames, header=None)\n",
    "\n",
    "# modify bac120 table\n",
    "bac['domain'] = bac['dom'].str.split('__', expand=True)[1]\n",
    "bac['phylum'] = bac['phylum'].str.replace(r'p__', '')\n",
    "bac['class'] = bac['class'].str.replace(r'c__', '')\n",
    "bac['order'] = bac['order'].str.replace(r'o__', '')\n",
    "bac['family'] = bac['family'].str.replace(r'f__', '')\n",
    "bac['genus'] = bac['genus'].str.replace(r'g__', '')\n",
    "bac['sp'] = bac['sp'].str.replace(r's__', '')\n",
    "bac = bac[['domain','phylum','class','order','family','genus','sp']]\n",
    "bac = bac.drop_duplicates()\n",
    "\n",
    "# modify arch table\n",
    "arh['domain'] = arh['dom'].str.split('__', expand=True)[1]\n",
    "arh['phylum'] = arh['phylum'].str.replace(r'p__', '')\n",
    "arh['class'] = arh['class'].str.replace(r'c__', '')\n",
    "arh['order'] = arh['order'].str.replace(r'o__', '')\n",
    "arh['family'] = arh['family'].str.replace(r'f__', '')\n",
    "arh['genus'] = arh['genus'].str.replace(r'g__', '')\n",
    "arh['sp'] = arh['sp'].str.replace(r's__', '')\n",
    "arh = arh[['domain','phylum','class','order','family','genus','sp']]\n",
    "arh = arh.drop_duplicates()\n",
    "\n",
    "frames = [bac,arh]\n",
    "gtdb = pd.concat(frames)\n",
    "\n",
    "gtdb.to_excel('results/GTDB_all_species.xlsx', index=False)\n",
    "gtdb.head(2)"
   ]
  },
  {
   "cell_type": "code",
   "execution_count": 32,
   "metadata": {},
   "outputs": [
    {
     "name": "stdout",
     "output_type": "stream",
     "text": [
      "Total bacteria species number in GTDB is  107235\n"
     ]
    }
   ],
   "source": [
    "print('Total bacteria species number in GTDB is ',len(gtdb.loc[gtdb['domain'] == 'Bacteria']))"
   ]
  },
  {
   "cell_type": "markdown",
   "metadata": {},
   "source": [
    "## Tax_gtdb-ncbi"
   ]
  },
  {
   "cell_type": "code",
   "execution_count": 33,
   "metadata": {},
   "outputs": [
    {
     "name": "stdout",
     "output_type": "stream",
     "text": [
      "Unique bacteria species by gtdb -  97786\n"
     ]
    },
    {
     "name": "stderr",
     "output_type": "stream",
     "text": [
      "/var/folders/5j/pvj6k02n3mn9ztpn77vjtfzw0000gn/T/ipykernel_92225/4009286634.py:7: FutureWarning: In a future version of pandas all arguments of StringMethods.rsplit except for the argument 'pat' will be keyword-only.\n",
      "  new = convB.ncbi.str.rsplit(' ', 1, expand=True)\\\n"
     ]
    },
    {
     "data": {
      "text/html": [
       "<div>\n",
       "<style scoped>\n",
       "    .dataframe tbody tr th:only-of-type {\n",
       "        vertical-align: middle;\n",
       "    }\n",
       "\n",
       "    .dataframe tbody tr th {\n",
       "        vertical-align: top;\n",
       "    }\n",
       "\n",
       "    .dataframe thead th {\n",
       "        text-align: right;\n",
       "    }\n",
       "</style>\n",
       "<table border=\"1\" class=\"dataframe\">\n",
       "  <thead>\n",
       "    <tr style=\"text-align: right;\">\n",
       "      <th></th>\n",
       "      <th>sp_gtdb</th>\n",
       "      <th>sp_ncbi</th>\n",
       "    </tr>\n",
       "  </thead>\n",
       "  <tbody>\n",
       "    <tr>\n",
       "      <th>14238</th>\n",
       "      <td>Streptococcus parasanguinis_H</td>\n",
       "      <td>Streptococcus parasanguinis</td>\n",
       "    </tr>\n",
       "    <tr>\n",
       "      <th>14239</th>\n",
       "      <td>Paenibacillus_E whitsoniae</td>\n",
       "      <td>Paenibacillus whitsoniae</td>\n",
       "    </tr>\n",
       "  </tbody>\n",
       "</table>\n",
       "</div>"
      ],
      "text/plain": [
       "                             sp_gtdb                      sp_ncbi\n",
       "14238  Streptococcus parasanguinis_H  Streptococcus parasanguinis\n",
       "14239     Paenibacillus_E whitsoniae     Paenibacillus whitsoniae"
      ]
     },
     "execution_count": 33,
     "metadata": {},
     "output_type": "execute_result"
    }
   ],
   "source": [
    "# for release 214!!! Change files for the new releases\n",
    "rel = '220'\n",
    "convB = pd.read_excel('input/gtdb_vs_ncbi_r'+str(rel)+'_bacteria.xlsx', sheet_name='Species')\n",
    "print('Unique bacteria species by gtdb - ',len(convB['GTDB R220 species'].unique()))\n",
    "\n",
    "convB.rename(columns = {'GTDB R220 species':'sp_gtdb',\"List of NCBI species\":'ncbi'}, inplace = True)\n",
    "new = convB.ncbi.str.rsplit(' ', 1, expand=True)\\\n",
    "  .rename(columns=lambda x: 'col{}'.format(x + 1))\n",
    "convB['sp_ncbi'] = new['col1']\n",
    "convB['sp_ncbi'] = convB['sp_ncbi'].str.replace(r's__', '')\n",
    "convB['sp_gtdb'] = convB['sp_gtdb'].str.replace(r's__', '')\n",
    "convB = convB[['sp_gtdb','sp_ncbi']]\n",
    "convB = convB.loc[convB['sp_ncbi'] != \"(g__)\"]\n",
    "convB = convB.reset_index(drop=True)\n",
    "\n",
    "convB.tail(2)"
   ]
  },
  {
   "cell_type": "code",
   "execution_count": 35,
   "metadata": {},
   "outputs": [
    {
     "name": "stdout",
     "output_type": "stream",
     "text": [
      "Unique archaea species by gtdb -  5455\n"
     ]
    },
    {
     "name": "stderr",
     "output_type": "stream",
     "text": [
      "/var/folders/5j/pvj6k02n3mn9ztpn77vjtfzw0000gn/T/ipykernel_92225/1830643434.py:8: FutureWarning: In a future version of pandas all arguments of StringMethods.rsplit except for the argument 'pat' will be keyword-only.\n",
      "  new = convA.top_sp_ncbi.str.rsplit(' ', 1, expand=True)\\\n"
     ]
    },
    {
     "data": {
      "text/html": [
       "<div>\n",
       "<style scoped>\n",
       "    .dataframe tbody tr th:only-of-type {\n",
       "        vertical-align: middle;\n",
       "    }\n",
       "\n",
       "    .dataframe tbody tr th {\n",
       "        vertical-align: top;\n",
       "    }\n",
       "\n",
       "    .dataframe thead th {\n",
       "        text-align: right;\n",
       "    }\n",
       "</style>\n",
       "<table border=\"1\" class=\"dataframe\">\n",
       "  <thead>\n",
       "    <tr style=\"text-align: right;\">\n",
       "      <th></th>\n",
       "      <th>sp_gtdb</th>\n",
       "      <th>sp_ncbi</th>\n",
       "    </tr>\n",
       "  </thead>\n",
       "  <tbody>\n",
       "    <tr>\n",
       "      <th>5453</th>\n",
       "      <td>JABDBI01 sp013288705</td>\n",
       "      <td>(g__Methanobrevibacter)</td>\n",
       "    </tr>\n",
       "    <tr>\n",
       "      <th>5454</th>\n",
       "      <td>JABEUN01 sp021836665</td>\n",
       "      <td>(g__Methanobrevibacter)</td>\n",
       "    </tr>\n",
       "  </tbody>\n",
       "</table>\n",
       "</div>"
      ],
      "text/plain": [
       "                   sp_gtdb                  sp_ncbi\n",
       "5453  JABDBI01 sp013288705  (g__Methanobrevibacter)\n",
       "5454  JABEUN01 sp021836665  (g__Methanobrevibacter)"
      ]
     },
     "execution_count": 35,
     "metadata": {},
     "output_type": "execute_result"
    }
   ],
   "source": [
    "convA = pd.read_excel('input/gtdb_vs_ncbi_r'+str(rel)+'_archaea.xlsx', sheet_name='Species')\n",
    "print('Unique archaea species by gtdb - ',len(convA['GTDB R220 species'].unique()))\n",
    "\n",
    "convA['top_sp_ncbi'] = convA['List of NCBI species'].str.split(',', expand=True)[0]\n",
    "convA['GTDB R220 species'] = convA['GTDB R220 species'].str.replace(r's__', '')\n",
    "convA['top_sp_ncbi'] = convA['top_sp_ncbi'].str.replace(r's__', '')\n",
    "convA.rename(columns = {'GTDB R220 species':'sp_gtdb'}, inplace = True)\n",
    "new = convA.top_sp_ncbi.str.rsplit(' ', 1, expand=True)\\\n",
    "  .rename(columns=lambda x: 'col{}'.format(x + 1))\n",
    "convA['sp_ncbi'] = new['col1']\n",
    "\n",
    "convA = convA[['sp_gtdb','sp_ncbi']]\n",
    "convA = convA.loc[convA['sp_ncbi'] != \"(g__)\"]\n",
    "convA = convA.reset_index(drop=True)\n",
    "\n",
    "convA.tail(2)"
   ]
  },
  {
   "cell_type": "code",
   "execution_count": 36,
   "metadata": {},
   "outputs": [
    {
     "name": "stdout",
     "output_type": "stream",
     "text": [
      "Unique species by gtdb -  19692\n"
     ]
    },
    {
     "data": {
      "text/html": [
       "<div>\n",
       "<style scoped>\n",
       "    .dataframe tbody tr th:only-of-type {\n",
       "        vertical-align: middle;\n",
       "    }\n",
       "\n",
       "    .dataframe tbody tr th {\n",
       "        vertical-align: top;\n",
       "    }\n",
       "\n",
       "    .dataframe thead th {\n",
       "        text-align: right;\n",
       "    }\n",
       "</style>\n",
       "<table border=\"1\" class=\"dataframe\">\n",
       "  <thead>\n",
       "    <tr style=\"text-align: right;\">\n",
       "      <th></th>\n",
       "      <th>sp_gtdb</th>\n",
       "      <th>sp_ncbi</th>\n",
       "    </tr>\n",
       "  </thead>\n",
       "  <tbody>\n",
       "    <tr>\n",
       "      <th>19693</th>\n",
       "      <td>Streptococcus parasanguinis_H</td>\n",
       "      <td>Streptococcus parasanguinis</td>\n",
       "    </tr>\n",
       "    <tr>\n",
       "      <th>19694</th>\n",
       "      <td>Paenibacillus_E whitsoniae</td>\n",
       "      <td>Paenibacillus whitsoniae</td>\n",
       "    </tr>\n",
       "  </tbody>\n",
       "</table>\n",
       "</div>"
      ],
      "text/plain": [
       "                             sp_gtdb                      sp_ncbi\n",
       "19693  Streptococcus parasanguinis_H  Streptococcus parasanguinis\n",
       "19694     Paenibacillus_E whitsoniae     Paenibacillus whitsoniae"
      ]
     },
     "execution_count": 36,
     "metadata": {},
     "output_type": "execute_result"
    }
   ],
   "source": [
    "frames = [convA,convB]\n",
    "conv = pd.concat(frames)\n",
    "conv = conv.reset_index(drop=True)\n",
    "\n",
    "print('Unique species by gtdb - ',len(conv['sp_gtdb'].unique()))\n",
    "conv.tail(2)"
   ]
  },
  {
   "cell_type": "code",
   "execution_count": 37,
   "metadata": {},
   "outputs": [
    {
     "data": {
      "text/html": [
       "<div>\n",
       "<style scoped>\n",
       "    .dataframe tbody tr th:only-of-type {\n",
       "        vertical-align: middle;\n",
       "    }\n",
       "\n",
       "    .dataframe tbody tr th {\n",
       "        vertical-align: top;\n",
       "    }\n",
       "\n",
       "    .dataframe thead th {\n",
       "        text-align: right;\n",
       "    }\n",
       "</style>\n",
       "<table border=\"1\" class=\"dataframe\">\n",
       "  <thead>\n",
       "    <tr style=\"text-align: right;\">\n",
       "      <th></th>\n",
       "      <th>domain</th>\n",
       "      <th>phylum</th>\n",
       "      <th>class</th>\n",
       "      <th>order</th>\n",
       "      <th>family</th>\n",
       "      <th>genus</th>\n",
       "      <th>sp</th>\n",
       "      <th>sp_gtdb</th>\n",
       "      <th>sp_ncbi</th>\n",
       "    </tr>\n",
       "  </thead>\n",
       "  <tbody>\n",
       "    <tr>\n",
       "      <th>19693</th>\n",
       "      <td>Bacteria</td>\n",
       "      <td>Bacillota_A</td>\n",
       "      <td>Clostridia</td>\n",
       "      <td>Lachnospirales</td>\n",
       "      <td>Lachnospiraceae</td>\n",
       "      <td>Mediterraneibacter</td>\n",
       "      <td>Mediterraneibacter lactaris</td>\n",
       "      <td>Mediterraneibacter lactaris</td>\n",
       "      <td>[Ruminococcus] lactaris 81.97%, (g__)</td>\n",
       "    </tr>\n",
       "    <tr>\n",
       "      <th>19694</th>\n",
       "      <td>Bacteria</td>\n",
       "      <td>Bacillota_A</td>\n",
       "      <td>Clostridia</td>\n",
       "      <td>Lachnospirales</td>\n",
       "      <td>Lachnospiraceae</td>\n",
       "      <td>Mediterraneibacter</td>\n",
       "      <td>Mediterraneibacter torques</td>\n",
       "      <td>Mediterraneibacter torques</td>\n",
       "      <td>[Ruminococcus] torques 72.94%, (g__) 23.53%, F...</td>\n",
       "    </tr>\n",
       "  </tbody>\n",
       "</table>\n",
       "</div>"
      ],
      "text/plain": [
       "         domain       phylum       class           order           family  \\\n",
       "19693  Bacteria  Bacillota_A  Clostridia  Lachnospirales  Lachnospiraceae   \n",
       "19694  Bacteria  Bacillota_A  Clostridia  Lachnospirales  Lachnospiraceae   \n",
       "\n",
       "                    genus                           sp  \\\n",
       "19693  Mediterraneibacter  Mediterraneibacter lactaris   \n",
       "19694  Mediterraneibacter   Mediterraneibacter torques   \n",
       "\n",
       "                           sp_gtdb  \\\n",
       "19693  Mediterraneibacter lactaris   \n",
       "19694   Mediterraneibacter torques   \n",
       "\n",
       "                                                 sp_ncbi  \n",
       "19693              [Ruminococcus] lactaris 81.97%, (g__)  \n",
       "19694  [Ruminococcus] torques 72.94%, (g__) 23.53%, F...  "
      ]
     },
     "execution_count": 37,
     "metadata": {},
     "output_type": "execute_result"
    }
   ],
   "source": [
    "gtdbN = pd.merge(gtdb, conv, how=\"inner\", left_on=\"sp\", right_on='sp_gtdb').sort_values('sp_ncbi').reset_index(drop=True)\n",
    "gtdbN.to_excel('results/Tax_gtdb-ncbi_v'+str(rel)+'.xlsx', index=False)\n",
    "\n",
    "gtdbN.tail(2)"
   ]
  },
  {
   "cell_type": "markdown",
   "metadata": {},
   "source": [
    "### Random check merge table"
   ]
  },
  {
   "cell_type": "code",
   "execution_count": 38,
   "metadata": {},
   "outputs": [
    {
     "data": {
      "text/html": [
       "<div>\n",
       "<style scoped>\n",
       "    .dataframe tbody tr th:only-of-type {\n",
       "        vertical-align: middle;\n",
       "    }\n",
       "\n",
       "    .dataframe tbody tr th {\n",
       "        vertical-align: top;\n",
       "    }\n",
       "\n",
       "    .dataframe thead th {\n",
       "        text-align: right;\n",
       "    }\n",
       "</style>\n",
       "<table border=\"1\" class=\"dataframe\">\n",
       "  <thead>\n",
       "    <tr style=\"text-align: right;\">\n",
       "      <th></th>\n",
       "      <th>domain</th>\n",
       "      <th>phylum</th>\n",
       "      <th>class</th>\n",
       "      <th>order</th>\n",
       "      <th>family</th>\n",
       "      <th>genus</th>\n",
       "      <th>sp</th>\n",
       "      <th>sp_gtdb</th>\n",
       "      <th>sp_ncbi</th>\n",
       "    </tr>\n",
       "  </thead>\n",
       "  <tbody>\n",
       "    <tr>\n",
       "      <th>14026</th>\n",
       "      <td>Bacteria</td>\n",
       "      <td>Pseudomonadota</td>\n",
       "      <td>Gammaproteobacteria</td>\n",
       "      <td>Enterobacterales</td>\n",
       "      <td>Enterobacteriaceae</td>\n",
       "      <td>Klebsiella</td>\n",
       "      <td>Klebsiella pneumoniae</td>\n",
       "      <td>Klebsiella pneumoniae</td>\n",
       "      <td>Klebsiella pneumoniae 99.63%, (g__) 0.32%, Esc...</td>\n",
       "    </tr>\n",
       "  </tbody>\n",
       "</table>\n",
       "</div>"
      ],
      "text/plain": [
       "         domain          phylum                class             order  \\\n",
       "14026  Bacteria  Pseudomonadota  Gammaproteobacteria  Enterobacterales   \n",
       "\n",
       "                   family       genus                     sp  \\\n",
       "14026  Enterobacteriaceae  Klebsiella  Klebsiella pneumoniae   \n",
       "\n",
       "                     sp_gtdb  \\\n",
       "14026  Klebsiella pneumoniae   \n",
       "\n",
       "                                                 sp_ncbi  \n",
       "14026  Klebsiella pneumoniae 99.63%, (g__) 0.32%, Esc...  "
      ]
     },
     "execution_count": 38,
     "metadata": {},
     "output_type": "execute_result"
    }
   ],
   "source": [
    "gtdbN.loc[gtdbN['sp_gtdb'] == 'Klebsiella pneumoniae']"
   ]
  },
  {
   "cell_type": "markdown",
   "metadata": {},
   "source": [
    "## Check stats"
   ]
  },
  {
   "cell_type": "code",
   "execution_count": 30,
   "metadata": {},
   "outputs": [
    {
     "name": "stdout",
     "output_type": "stream",
     "text": [
      "For db version 214\n",
      "Total GTDB bacteria species in initial table is: 80789\n",
      "Total bacteria species in GTDB-NCBI result table is  11972\n"
     ]
    }
   ],
   "source": [
    "print('For db version',rel)\n",
    "print('Total GTDB bacteria species in initial table is:',len(gtdb.loc[gtdb['domain'] == 'Bacteria']))\n",
    "print('Total bacteria species in GTDB-NCBI result table is ',len(gtdbN.loc[gtdbN['domain'] == 'Bacteria']))"
   ]
  },
  {
   "cell_type": "code",
   "execution_count": 39,
   "metadata": {},
   "outputs": [
    {
     "name": "stdout",
     "output_type": "stream",
     "text": [
      "For db version 220\n",
      "Total GTDB bacteria species in initial table is: 107235\n",
      "Total bacteria species in GTDB-NCBI result table is  14258\n"
     ]
    }
   ],
   "source": [
    "print('For db version',rel)\n",
    "print('Total GTDB bacteria species in initial table is:',len(gtdb.loc[gtdb['domain'] == 'Bacteria']))\n",
    "print('Total bacteria species in GTDB-NCBI result table is ',len(gtdbN.loc[gtdbN['domain'] == 'Bacteria']))"
   ]
  }
 ],
 "metadata": {
  "kernelspec": {
   "display_name": "Python 3",
   "language": "python",
   "name": "python3"
  },
  "language_info": {
   "codemirror_mode": {
    "name": "ipython",
    "version": 3
   },
   "file_extension": ".py",
   "mimetype": "text/x-python",
   "name": "python",
   "nbconvert_exporter": "python",
   "pygments_lexer": "ipython3",
   "version": "3.9.6"
  }
 },
 "nbformat": 4,
 "nbformat_minor": 2
}
