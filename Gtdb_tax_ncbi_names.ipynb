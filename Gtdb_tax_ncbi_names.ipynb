{
 "cells": [
  {
   "cell_type": "markdown",
   "metadata": {},
   "source": [
    "## Script is designed to create the taxonomy table file\n",
    "\n",
    "Output is: <br>\n",
    "\n",
    "1. <i> File \"Tax_gtdb.csv\" <br></i>\n",
    "Taxonomy table file. Taxonomy was taken from last GTDB release (release207/207.0) <br>\n",
    "https://data.ace.uq.edu.au/public/gtdb/data/releases/release207/207.0/ <br>\n",
    "<br>\n",
    "2. <i> File \"Tax_gtdb-ncbi.csv\" <br></i>\n",
    "Taxonomy table file. The table includes the gtdb taxonomy and ncbi names for all species for which I find a correspondence between dtdb and ncbi spesies names. Gtdb species names vs ncbi species names match files were taken from here: <br>\n",
    "https://data.gtdb.ecogenomic.org/releases/latest/auxillary_files/\n"
   ]
  },
  {
   "cell_type": "code",
   "execution_count": 114,
   "metadata": {},
   "outputs": [],
   "source": [
    "# import packages\n",
    "import matplotlib.pyplot as plt\n",
    "import matplotlib.pyplot as plt\n",
    "from matplotlib_venn import venn2\n",
    "from matplotlib_venn import venn3\n",
    "import pandas as pd\n",
    "import seaborn as sns \n",
    "import os\n",
    "import glob\n",
    "import plotly.express as px\n",
    "import numpy as np"
   ]
  },
  {
   "cell_type": "markdown",
   "metadata": {},
   "source": [
    "## Tax_gtdb"
   ]
  },
  {
   "cell_type": "code",
   "execution_count": 77,
   "metadata": {},
   "outputs": [
    {
     "data": {
      "text/html": [
       "<div>\n",
       "<style scoped>\n",
       "    .dataframe tbody tr th:only-of-type {\n",
       "        vertical-align: middle;\n",
       "    }\n",
       "\n",
       "    .dataframe tbody tr th {\n",
       "        vertical-align: top;\n",
       "    }\n",
       "\n",
       "    .dataframe thead th {\n",
       "        text-align: right;\n",
       "    }\n",
       "</style>\n",
       "<table border=\"1\" class=\"dataframe\">\n",
       "  <thead>\n",
       "    <tr style=\"text-align: right;\">\n",
       "      <th></th>\n",
       "      <th>domain</th>\n",
       "      <th>phylum</th>\n",
       "      <th>class</th>\n",
       "      <th>order</th>\n",
       "      <th>family</th>\n",
       "      <th>genus</th>\n",
       "      <th>sp</th>\n",
       "    </tr>\n",
       "  </thead>\n",
       "  <tbody>\n",
       "    <tr>\n",
       "      <th>0</th>\n",
       "      <td>Bacteria</td>\n",
       "      <td>Proteobacteria</td>\n",
       "      <td>Gammaproteobacteria</td>\n",
       "      <td>Enterobacterales</td>\n",
       "      <td>Enterobacteriaceae</td>\n",
       "      <td>Escherichia</td>\n",
       "      <td>Escherichia coli</td>\n",
       "    </tr>\n",
       "    <tr>\n",
       "      <th>26859</th>\n",
       "      <td>Bacteria</td>\n",
       "      <td>Firmicutes</td>\n",
       "      <td>Bacilli</td>\n",
       "      <td>Staphylococcales</td>\n",
       "      <td>Staphylococcaceae</td>\n",
       "      <td>Staphylococcus</td>\n",
       "      <td>Staphylococcus aureus</td>\n",
       "    </tr>\n",
       "  </tbody>\n",
       "</table>\n",
       "</div>"
      ],
      "text/plain": [
       "         domain          phylum                class             order  \\\n",
       "0      Bacteria  Proteobacteria  Gammaproteobacteria  Enterobacterales   \n",
       "26859  Bacteria      Firmicutes              Bacilli  Staphylococcales   \n",
       "\n",
       "                   family           genus                     sp  \n",
       "0      Enterobacteriaceae     Escherichia       Escherichia coli  \n",
       "26859   Staphylococcaceae  Staphylococcus  Staphylococcus aureus  "
      ]
     },
     "execution_count": 77,
     "metadata": {},
     "output_type": "execute_result"
    }
   ],
   "source": [
    "colnames = ['dom','phylum','class','order','family','genus','sp']\n",
    "\n",
    "bac = pd.read_csv('input/bac120_taxonomy_r207.tsv', sep=';', names=colnames, header=None)\n",
    "arh = pd.read_csv('input/ar53_taxonomy_r207.tsv', sep=';', names=colnames, header=None)\n",
    "\n",
    "# modify bac120 table\n",
    "bac['domain'] = bac['dom'].str.split('__', expand=True)[1]\n",
    "bac['phylum'] = bac['phylum'].str.replace(r'p__', '')\n",
    "bac['class'] = bac['class'].str.replace(r'c__', '')\n",
    "bac['order'] = bac['order'].str.replace(r'o__', '')\n",
    "bac['family'] = bac['family'].str.replace(r'f__', '')\n",
    "bac['genus'] = bac['genus'].str.replace(r'g__', '')\n",
    "bac['sp'] = bac['sp'].str.replace(r's__', '')\n",
    "bac = bac[['domain','phylum','class','order','family','genus','sp']]\n",
    "bac = bac.drop_duplicates()\n",
    "\n",
    "# modify arch table\n",
    "arh['domain'] = arh['dom'].str.split('__', expand=True)[1]\n",
    "arh['phylum'] = arh['phylum'].str.replace(r'p__', '')\n",
    "arh['class'] = arh['class'].str.replace(r'c__', '')\n",
    "arh['order'] = arh['order'].str.replace(r'o__', '')\n",
    "arh['family'] = arh['family'].str.replace(r'f__', '')\n",
    "arh['genus'] = arh['genus'].str.replace(r'g__', '')\n",
    "arh['sp'] = arh['sp'].str.replace(r's__', '')\n",
    "arh = arh[['domain','phylum','class','order','family','genus','sp']]\n",
    "arh = arh.drop_duplicates()\n",
    "\n",
    "frames = [bac,arh]\n",
    "gtdb = pd.concat(frames)\n",
    "\n",
    "gtdb.to_csv('Tax_gtdb.csv', index=False)\n",
    "gtdb.head(2)"
   ]
  },
  {
   "cell_type": "markdown",
   "metadata": {},
   "source": [
    "## Tax_gtdb-ncbi"
   ]
  },
  {
   "cell_type": "code",
   "execution_count": 68,
   "metadata": {},
   "outputs": [
    {
     "data": {
      "text/html": [
       "<div>\n",
       "<style scoped>\n",
       "    .dataframe tbody tr th:only-of-type {\n",
       "        vertical-align: middle;\n",
       "    }\n",
       "\n",
       "    .dataframe tbody tr th {\n",
       "        vertical-align: top;\n",
       "    }\n",
       "\n",
       "    .dataframe thead th {\n",
       "        text-align: right;\n",
       "    }\n",
       "</style>\n",
       "<table border=\"1\" class=\"dataframe\">\n",
       "  <thead>\n",
       "    <tr style=\"text-align: right;\">\n",
       "      <th></th>\n",
       "      <th>sp_gtdb</th>\n",
       "      <th>sp_ncbi</th>\n",
       "    </tr>\n",
       "  </thead>\n",
       "  <tbody>\n",
       "    <tr>\n",
       "      <th>0</th>\n",
       "      <td>Escherichia coli</td>\n",
       "      <td>Escherichia coli</td>\n",
       "    </tr>\n",
       "    <tr>\n",
       "      <th>1</th>\n",
       "      <td>Staphylococcus aureus</td>\n",
       "      <td>Staphylococcus aureus</td>\n",
       "    </tr>\n",
       "  </tbody>\n",
       "</table>\n",
       "</div>"
      ],
      "text/plain": [
       "                 sp_gtdb                sp_ncbi\n",
       "0       Escherichia coli       Escherichia coli\n",
       "1  Staphylococcus aureus  Staphylococcus aureus"
      ]
     },
     "execution_count": 68,
     "metadata": {},
     "output_type": "execute_result"
    }
   ],
   "source": [
    "convB = pd.read_excel('input/gtdb_vs_ncbi_bacteria.xlsx', sheet_name='Species')\n",
    "\n",
    "convB['top_sp_ncbi'] = convB['List of NCBI species'].str.split(',', expand=True)[0]\n",
    "convB['GTDB R207 species'] = convB['GTDB R207 species'].str.replace(r's__', '')\n",
    "convB['top_sp_ncbi'] = convB['top_sp_ncbi'].str.replace(r's__', '')\n",
    "convB.rename(columns = {'GTDB R207 species':'sp_gtdb'}, inplace = True)\n",
    "new = convB.top_sp_ncbi.str.rsplit(' ', 1, expand=True)\\\n",
    "  .rename(columns=lambda x: 'col{}'.format(x + 1))\n",
    "convB['sp_ncbi'] = new['col1']\n",
    "\n",
    "convB = convB[['sp_gtdb','sp_ncbi']]\n",
    "convB = convB.loc[convB['sp_ncbi'] != \"(g__)\"]\n",
    "\n",
    "convB.head(2)"
   ]
  },
  {
   "cell_type": "code",
   "execution_count": 69,
   "metadata": {},
   "outputs": [
    {
     "data": {
      "text/html": [
       "<div>\n",
       "<style scoped>\n",
       "    .dataframe tbody tr th:only-of-type {\n",
       "        vertical-align: middle;\n",
       "    }\n",
       "\n",
       "    .dataframe tbody tr th {\n",
       "        vertical-align: top;\n",
       "    }\n",
       "\n",
       "    .dataframe thead th {\n",
       "        text-align: right;\n",
       "    }\n",
       "</style>\n",
       "<table border=\"1\" class=\"dataframe\">\n",
       "  <thead>\n",
       "    <tr style=\"text-align: right;\">\n",
       "      <th></th>\n",
       "      <th>sp_gtdb</th>\n",
       "      <th>sp_ncbi</th>\n",
       "    </tr>\n",
       "  </thead>\n",
       "  <tbody>\n",
       "    <tr>\n",
       "      <th>0</th>\n",
       "      <td>Methanosarcina mazei</td>\n",
       "      <td>Methanosarcina mazei</td>\n",
       "    </tr>\n",
       "    <tr>\n",
       "      <th>4</th>\n",
       "      <td>Saccharolobus islandicus</td>\n",
       "      <td>Sulfolobus islandicus</td>\n",
       "    </tr>\n",
       "  </tbody>\n",
       "</table>\n",
       "</div>"
      ],
      "text/plain": [
       "                    sp_gtdb                sp_ncbi\n",
       "0      Methanosarcina mazei   Methanosarcina mazei\n",
       "4  Saccharolobus islandicus  Sulfolobus islandicus"
      ]
     },
     "execution_count": 69,
     "metadata": {},
     "output_type": "execute_result"
    }
   ],
   "source": [
    "convA = pd.read_excel('input/gtdb_vs_ncbi_r207_archaea.xlsx', sheet_name='Species')\n",
    "\n",
    "convA['top_sp_ncbi'] = convA['List of NCBI species'].str.split(',', expand=True)[0]\n",
    "convA['GTDB R207 species'] = convA['GTDB R207 species'].str.replace(r's__', '')\n",
    "convA['top_sp_ncbi'] = convA['top_sp_ncbi'].str.replace(r's__', '')\n",
    "convA.rename(columns = {'GTDB R207 species':'sp_gtdb'}, inplace = True)\n",
    "new = convA.top_sp_ncbi.str.rsplit(' ', 1, expand=True)\\\n",
    "  .rename(columns=lambda x: 'col{}'.format(x + 1))\n",
    "convA['sp_ncbi'] = new['col1']\n",
    "\n",
    "convA = convA[['sp_gtdb','sp_ncbi']]\n",
    "convA = convA.loc[convA['sp_ncbi'] != \"(g__)\"]\n",
    "\n",
    "convA.head(2)"
   ]
  },
  {
   "cell_type": "code",
   "execution_count": 70,
   "metadata": {},
   "outputs": [],
   "source": [
    "frames = [convA,convB]\n",
    "conv = pd.concat(frames)"
   ]
  },
  {
   "cell_type": "code",
   "execution_count": 102,
   "metadata": {},
   "outputs": [
    {
     "data": {
      "text/html": [
       "<div>\n",
       "<style scoped>\n",
       "    .dataframe tbody tr th:only-of-type {\n",
       "        vertical-align: middle;\n",
       "    }\n",
       "\n",
       "    .dataframe tbody tr th {\n",
       "        vertical-align: top;\n",
       "    }\n",
       "\n",
       "    .dataframe thead th {\n",
       "        text-align: right;\n",
       "    }\n",
       "</style>\n",
       "<table border=\"1\" class=\"dataframe\">\n",
       "  <thead>\n",
       "    <tr style=\"text-align: right;\">\n",
       "      <th></th>\n",
       "      <th>domain</th>\n",
       "      <th>phylum</th>\n",
       "      <th>class</th>\n",
       "      <th>order</th>\n",
       "      <th>family</th>\n",
       "      <th>genus</th>\n",
       "      <th>sp</th>\n",
       "      <th>sp_gtdb</th>\n",
       "      <th>sp_ncbi</th>\n",
       "    </tr>\n",
       "  </thead>\n",
       "  <tbody>\n",
       "    <tr>\n",
       "      <th>3769</th>\n",
       "      <td>Bacteria</td>\n",
       "      <td>Proteobacteria</td>\n",
       "      <td>Gammaproteobacteria</td>\n",
       "      <td>Nevskiales</td>\n",
       "      <td>OUC007</td>\n",
       "      <td>Abyssibacter</td>\n",
       "      <td>Abyssibacter profundi</td>\n",
       "      <td>Abyssibacter profundi</td>\n",
       "      <td>Abyssibacter profundi</td>\n",
       "    </tr>\n",
       "    <tr>\n",
       "      <th>6092</th>\n",
       "      <td>Bacteria</td>\n",
       "      <td>Cyanobacteria</td>\n",
       "      <td>Cyanobacteriia</td>\n",
       "      <td>Thermosynechococcales</td>\n",
       "      <td>Thermosynechococcaceae</td>\n",
       "      <td>Acaryochloris</td>\n",
       "      <td>Acaryochloris marina_A</td>\n",
       "      <td>Acaryochloris marina_A</td>\n",
       "      <td>Acaryochloris marina</td>\n",
       "    </tr>\n",
       "  </tbody>\n",
       "</table>\n",
       "</div>"
      ],
      "text/plain": [
       "        domain          phylum                class                  order  \\\n",
       "3769  Bacteria  Proteobacteria  Gammaproteobacteria             Nevskiales   \n",
       "6092  Bacteria   Cyanobacteria       Cyanobacteriia  Thermosynechococcales   \n",
       "\n",
       "                      family          genus                      sp  \\\n",
       "3769                  OUC007   Abyssibacter   Abyssibacter profundi   \n",
       "6092  Thermosynechococcaceae  Acaryochloris  Acaryochloris marina_A   \n",
       "\n",
       "                     sp_gtdb                sp_ncbi  \n",
       "3769   Abyssibacter profundi  Abyssibacter profundi  \n",
       "6092  Acaryochloris marina_A   Acaryochloris marina  "
      ]
     },
     "execution_count": 102,
     "metadata": {},
     "output_type": "execute_result"
    }
   ],
   "source": [
    "gtdbN = pd.merge(gtdb, conv, how=\"inner\", left_on=\"sp\", right_on='sp_gtdb').sort_values('sp_ncbi')\n",
    "gtbdN.to_csv('Tax_gtdb-ncbi.csv', index=False)\n",
    "gtdbN.head(2)"
   ]
  },
  {
   "cell_type": "markdown",
   "metadata": {},
   "source": [
    "## Stats"
   ]
  },
  {
   "cell_type": "code",
   "execution_count": 136,
   "metadata": {},
   "outputs": [
    {
     "data": {
      "image/png": "[encoded data removed]",
      "text/plain": [
       "<Figure size 500x500 with 1 Axes>"
      ]
     },
     "metadata": {},
     "output_type": "display_data"
    }
   ],
   "source": [
    "from matplotlib.pyplot import figure\n",
    "figure(figsize=(5, 5), dpi=100)\n",
    "plt.rcParams.update({'font.size': 14})\n",
    "\n",
    "venn2([set(conv['sp_gtdb'].to_list()), \n",
    "       set(gtdb['sp'].to_list())],\n",
    "       set_labels=('ncbi match sp', 'all gtdb sp'), \n",
    "       set_colors=('orange', 'skyblue'), alpha = 0.7)\n",
    "\n",
    "plt.title('How many gtdb species has ncbi names?')\n",
    "plt.savefig('gtdb_nacbi_matches.png')"
   ]
  },
  {
   "cell_type": "code",
   "execution_count": 133,
   "metadata": {},
   "outputs": [
    {
     "data": {
      "text/plain": [
       "different sp name    6364\n",
       "same sp name         1558\n",
       "Name: comp, dtype: int64"
      ]
     },
     "execution_count": 133,
     "metadata": {},
     "output_type": "execute_result"
    }
   ],
   "source": [
    "gtdbC = gtdbN\n",
    "gtdbC['comp'] = np.where(gtdbC['sp_gtdb'] != gtdbC['sp_ncbi'], 'different sp name', 'same sp name')\n",
    "gtdbC['comp'].value_counts()"
   ]
  },
  {
   "cell_type": "code",
   "execution_count": 135,
   "metadata": {},
   "outputs": [
    {
     "data": {
      "image/png": "[encoded data removed]",
      "text/plain": [
       "<Figure size 500x500 with 1 Axes>"
      ]
     },
     "metadata": {},
     "output_type": "display_data"
    }
   ],
   "source": [
    "figure(figsize=(5, 5), dpi=100)\n",
    "df.plot.pie(y='mass', figsize=(5, 5), autopct='%1.0f%%', colors=['pink', 'silver'])\n",
    "plt.title('How many of them have same sp names?')\n",
    "\n",
    "plt.savefig('Same_names.png')"
   ]
  },
  {
   "cell_type": "code",
   "execution_count": null,
   "metadata": {},
   "outputs": [],
   "source": []
  }
 ],
 "metadata": {
  "kernelspec": {
   "display_name": "Python 3",
   "language": "python",
   "name": "python3"
  },
  "language_info": {
   "codemirror_mode": {
    "name": "ipython",
    "version": 3
   },
   "file_extension": ".py",
   "mimetype": "text/x-python",
   "name": "python",
   "nbconvert_exporter": "python",
   "pygments_lexer": "ipython3",
   "version": "3.7.0"
  }
 },
 "nbformat": 4,
 "nbformat_minor": 2
}
