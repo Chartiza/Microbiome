{
 "cells": [
  {
   "cell_type": "markdown",
   "metadata": {},
   "source": [
    "### Script is designed to identify Domain level microbiome composition across some cohort subjects.\n",
    "Input files are the output of kraken-report <br>\n",
    "Output is the boxplot and a table <br>\n",
    "You can caclulate reads number or reads percent"
   ]
  },
  {
   "cell_type": "code",
   "execution_count": 1,
   "metadata": {},
   "outputs": [],
   "source": [
    "# import packages\n",
    "import matplotlib.pyplot as plt\n",
    "import pandas as pd\n",
    "import seaborn as sns \n",
    "import os\n",
    "import glob"
   ]
  },
  {
   "cell_type": "markdown",
   "metadata": {},
   "source": [
    "## Get stat by Domain"
   ]
  },
  {
   "cell_type": "code",
   "execution_count": 11,
   "metadata": {},
   "outputs": [],
   "source": [
    "# if you want to calculate reads number:\n",
    "tp = 'rn1'\n",
    "lb = 'Reads number'\n",
    "# if you want to calculate reads percent:\n",
    "#tp = 'perc'\n",
    "#lb = 'Relative abundance (%)'"
   ]
  },
  {
   "cell_type": "code",
   "execution_count": 13,
   "metadata": {},
   "outputs": [
    {
     "name": "stdout",
     "output_type": "stream",
     "text": [
      "Smpls - 1908\n"
     ]
    },
    {
     "data": {
      "text/html": [
       "<div>\n",
       "<style scoped>\n",
       "    .dataframe tbody tr th:only-of-type {\n",
       "        vertical-align: middle;\n",
       "    }\n",
       "\n",
       "    .dataframe tbody tr th {\n",
       "        vertical-align: top;\n",
       "    }\n",
       "\n",
       "    .dataframe thead th {\n",
       "        text-align: right;\n",
       "    }\n",
       "</style>\n",
       "<table border=\"1\" class=\"dataframe\">\n",
       "  <thead>\n",
       "    <tr style=\"text-align: right;\">\n",
       "      <th></th>\n",
       "      <th>unclassified</th>\n",
       "      <th>Bacteria</th>\n",
       "      <th>Eukaryota</th>\n",
       "      <th>Archaea</th>\n",
       "      <th>Viruses</th>\n",
       "    </tr>\n",
       "    <tr>\n",
       "      <th>Smpl</th>\n",
       "      <th></th>\n",
       "      <th></th>\n",
       "      <th></th>\n",
       "      <th></th>\n",
       "      <th></th>\n",
       "    </tr>\n",
       "  </thead>\n",
       "  <tbody>\n",
       "    <tr>\n",
       "      <th>VFOJNG_E100009727</th>\n",
       "      <td>85923863</td>\n",
       "      <td>22890222</td>\n",
       "      <td>670704</td>\n",
       "      <td>171775</td>\n",
       "      <td>137066</td>\n",
       "    </tr>\n",
       "    <tr>\n",
       "      <th>VKX1SB_E100013128</th>\n",
       "      <td>79880496</td>\n",
       "      <td>27889432</td>\n",
       "      <td>575493</td>\n",
       "      <td>165221</td>\n",
       "      <td>104870</td>\n",
       "    </tr>\n",
       "    <tr>\n",
       "      <th>VM14J6_E100009727</th>\n",
       "      <td>78527508</td>\n",
       "      <td>30002533</td>\n",
       "      <td>773099</td>\n",
       "      <td>408481</td>\n",
       "      <td>186616</td>\n",
       "    </tr>\n",
       "    <tr>\n",
       "      <th>VF8Q00_E100013117</th>\n",
       "      <td>77172933</td>\n",
       "      <td>31837568</td>\n",
       "      <td>581948</td>\n",
       "      <td>175591</td>\n",
       "      <td>51227</td>\n",
       "    </tr>\n",
       "    <tr>\n",
       "      <th>VR339W_E100013135</th>\n",
       "      <td>74022135</td>\n",
       "      <td>37325405</td>\n",
       "      <td>573629</td>\n",
       "      <td>863517</td>\n",
       "      <td>164162</td>\n",
       "    </tr>\n",
       "  </tbody>\n",
       "</table>\n",
       "</div>"
      ],
      "text/plain": [
       "                  unclassified  Bacteria Eukaryota Archaea Viruses\n",
       "Smpl                                                              \n",
       "VFOJNG_E100009727     85923863  22890222    670704  171775  137066\n",
       "VKX1SB_E100013128     79880496  27889432    575493  165221  104870\n",
       "VM14J6_E100009727     78527508  30002533    773099  408481  186616\n",
       "VF8Q00_E100013117     77172933  31837568    581948  175591   51227\n",
       "VR339W_E100013135     74022135  37325405    573629  863517  164162"
      ]
     },
     "execution_count": 13,
     "metadata": {},
     "output_type": "execute_result"
    }
   ],
   "source": [
    "pathD = os.path.abspath(os.path.dirname('./input/BGI_Kraken2_1908/')) \n",
    "flist = [os.path.basename(x) for x in glob.glob(pathD + '/lab*')]\n",
    "\n",
    "print('Smpls - '+str(len(flist)))\n",
    "\n",
    "COLUMN_NAMES = ['Smpl','unclassified', 'Bacteria', 'Eukaryota', 'Archaea','Viruses']\n",
    "domainSTAT = pd.DataFrame(columns=COLUMN_NAMES)\n",
    "\n",
    "for smpl in flist:\n",
    "    tax = pd.read_csv(pathD + '/' + str(smpl), sep='\\t', \n",
    "                  names=[\"perc\", \"rn1\", \"rn2\", 'type','id', \"name\"])\n",
    "    \n",
    "    taxU = tax[tax['name'] == 'unclassified']\n",
    "    taxB = tax[tax['id'] == 2]\n",
    "    taxE = tax[tax['id'] == 2759]\n",
    "    taxA = tax[tax['id'] == 2157]\n",
    "    taxV = tax[tax['id'] == 10239]\n",
    "    \n",
    "    data = {'Smpl': [smpl[6:23]], 'unclassified': [taxU.iloc[0][tp]],'Bacteria': [taxB.iloc[0][tp]], \n",
    "            'Eukaryota': [taxE.iloc[0][tp]],'Archaea': [taxA.iloc[0][tp]], 'Viruses': [taxV.iloc[0][tp]]}\n",
    "    df = pd.DataFrame(data)\n",
    "    \n",
    "    domainSTAT = domainSTAT.append(df)\n",
    "\n",
    "domainSTAT=domainSTAT.set_index(['Smpl'])\n",
    "domainSTAT=domainSTAT.sort_values(by=['unclassified'], ascending=False)\n",
    "domainSTAT.to_csv('results/kraken_domainSTAT_'+str(tp)+'.csv')\n",
    "\n",
    "domainSTAT.head()"
   ]
  },
  {
   "cell_type": "markdown",
   "metadata": {},
   "source": [
    "### Make pictures with domaine stat"
   ]
  },
  {
   "cell_type": "code",
   "execution_count": null,
   "metadata": {},
   "outputs": [
    {
     "data": {
      "text/plain": [
       "<Figure size 432x288 with 0 Axes>"
      ]
     },
     "metadata": {},
     "output_type": "display_data"
    }
   ],
   "source": [
    "c = ['grey', '#4fc1e8', '#a0d568', '#ffce54', '#ed5564']\n",
    "import matplotlib.pyplot as plt\n",
    "fig = plt.figure()\n",
    "\n",
    "plt = domainSTAT.plot.bar(rot=0, stacked=True, color = c, figsize=(15, 5), width=1)\n",
    "plt.legend(loc=(1.04,0))\n",
    "plt.tick_params(axis='x', labelrotation=90)\n",
    "\n",
    "plt.set_xticklabels([])\n",
    "plt.spines['top'].set_visible(False)\n",
    "plt.spines['right'].set_visible(False)\n",
    "plt.tick_params(bottom = False)\n",
    "\n",
    "from matplotlib import pyplot as plt\n",
    "plt.title(\"Domain level microbiome composition\")\n",
    "plt.ylabel(lb)\n",
    "plt.xlabel(\" \")\n",
    "plt.savefig('results/Domain_'+str(tp)+'.png', dpi = 400, bbox_inches = 'tight')"
   ]
  },
  {
   "cell_type": "code",
   "execution_count": null,
   "metadata": {},
   "outputs": [],
   "source": []
  }
 ],
 "metadata": {
  "kernelspec": {
   "display_name": "Python 3",
   "language": "python",
   "name": "python3"
  },
  "language_info": {
   "codemirror_mode": {
    "name": "ipython",
    "version": 3
   },
   "file_extension": ".py",
   "mimetype": "text/x-python",
   "name": "python",
   "nbconvert_exporter": "python",
   "pygments_lexer": "ipython3",
   "version": "3.7.0"
  }
 },
 "nbformat": 4,
 "nbformat_minor": 2
}
