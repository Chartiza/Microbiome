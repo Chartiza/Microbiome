{
 "cells": [
  {
   "cell_type": "markdown",
   "metadata": {},
   "source": [
    "### Script is designed to identify most abundant Phylum level microbiome composition across some cohort subjects.\n",
    "Input files are the output of kraken-report <br>\n",
    "Output is the boxplot and a table <br>\n",
    "You can caclulate reads number or reads percent"
   ]
  },
  {
   "cell_type": "code",
   "execution_count": 2,
   "metadata": {},
   "outputs": [],
   "source": [
    "# import packages\n",
    "import matplotlib.pyplot as plt\n",
    "import pandas as pd\n",
    "import seaborn as sns \n",
    "import os\n",
    "import glob"
   ]
  },
  {
   "cell_type": "markdown",
   "metadata": {},
   "source": [
    "## Get stat by Phylum"
   ]
  },
  {
   "cell_type": "code",
   "execution_count": 56,
   "metadata": {},
   "outputs": [],
   "source": [
    "# if you want to calculate reads number:\n",
    "#tp = 'rn1'\n",
    "#lb = 'Reads number'\n",
    "# if you want to calculate reads percent:\n",
    "tp = 'perc'\n",
    "lb = 'Relative abundance (%)'"
   ]
  },
  {
   "cell_type": "code",
   "execution_count": 84,
   "metadata": {},
   "outputs": [
    {
     "name": "stdout",
     "output_type": "stream",
     "text": [
      "Smpls - 1908\n"
     ]
    },
    {
     "data": {
      "text/html": [
       "<div>\n",
       "<style scoped>\n",
       "    .dataframe tbody tr th:only-of-type {\n",
       "        vertical-align: middle;\n",
       "    }\n",
       "\n",
       "    .dataframe tbody tr th {\n",
       "        vertical-align: top;\n",
       "    }\n",
       "\n",
       "    .dataframe thead th {\n",
       "        text-align: right;\n",
       "    }\n",
       "</style>\n",
       "<table border=\"1\" class=\"dataframe\">\n",
       "  <thead>\n",
       "    <tr style=\"text-align: right;\">\n",
       "      <th></th>\n",
       "      <th>unclassified</th>\n",
       "      <th>Firmicutes</th>\n",
       "      <th>Actinobacteria</th>\n",
       "      <th>Bacteroidetes</th>\n",
       "      <th>Proteobacteria</th>\n",
       "      <th>Fusobacteria</th>\n",
       "      <th>Verrucomicrobia</th>\n",
       "      <th>Other</th>\n",
       "    </tr>\n",
       "    <tr>\n",
       "      <th>Smpl</th>\n",
       "      <th></th>\n",
       "      <th></th>\n",
       "      <th></th>\n",
       "      <th></th>\n",
       "      <th></th>\n",
       "      <th></th>\n",
       "      <th></th>\n",
       "      <th></th>\n",
       "    </tr>\n",
       "  </thead>\n",
       "  <tbody>\n",
       "    <tr>\n",
       "      <th>VFOJNG_E100009727</th>\n",
       "      <td>78.20</td>\n",
       "      <td>8.27</td>\n",
       "      <td>1.59</td>\n",
       "      <td>5.16</td>\n",
       "      <td>3.88</td>\n",
       "      <td>0.06</td>\n",
       "      <td>0.04</td>\n",
       "      <td>1.67</td>\n",
       "    </tr>\n",
       "    <tr>\n",
       "      <th>VI8VZ8_E100013458</th>\n",
       "      <td>77.95</td>\n",
       "      <td>8.68</td>\n",
       "      <td>1.39</td>\n",
       "      <td>4.64</td>\n",
       "      <td>3.75</td>\n",
       "      <td>0.05</td>\n",
       "      <td>1.11</td>\n",
       "      <td>1.50</td>\n",
       "    </tr>\n",
       "    <tr>\n",
       "      <th>VL6UTA_E100010953</th>\n",
       "      <td>76.01</td>\n",
       "      <td>8.65</td>\n",
       "      <td>1.48</td>\n",
       "      <td>5.75</td>\n",
       "      <td>4.70</td>\n",
       "      <td>0.12</td>\n",
       "      <td>0.06</td>\n",
       "      <td>2.07</td>\n",
       "    </tr>\n",
       "    <tr>\n",
       "      <th>VU5679_E100013124</th>\n",
       "      <td>75.46</td>\n",
       "      <td>8.72</td>\n",
       "      <td>1.32</td>\n",
       "      <td>6.77</td>\n",
       "      <td>3.91</td>\n",
       "      <td>0.14</td>\n",
       "      <td>0.14</td>\n",
       "      <td>2.36</td>\n",
       "    </tr>\n",
       "    <tr>\n",
       "      <th>VY5LA8_E100013128</th>\n",
       "      <td>75.06</td>\n",
       "      <td>9.50</td>\n",
       "      <td>0.82</td>\n",
       "      <td>8.42</td>\n",
       "      <td>2.80</td>\n",
       "      <td>0.15</td>\n",
       "      <td>0.06</td>\n",
       "      <td>2.24</td>\n",
       "    </tr>\n",
       "  </tbody>\n",
       "</table>\n",
       "</div>"
      ],
      "text/plain": [
       "                   unclassified  Firmicutes  Actinobacteria  Bacteroidetes  \\\n",
       "Smpl                                                                         \n",
       "VFOJNG_E100009727         78.20        8.27            1.59           5.16   \n",
       "VI8VZ8_E100013458         77.95        8.68            1.39           4.64   \n",
       "VL6UTA_E100010953         76.01        8.65            1.48           5.75   \n",
       "VU5679_E100013124         75.46        8.72            1.32           6.77   \n",
       "VY5LA8_E100013128         75.06        9.50            0.82           8.42   \n",
       "\n",
       "                   Proteobacteria  Fusobacteria  Verrucomicrobia  Other  \n",
       "Smpl                                                                     \n",
       "VFOJNG_E100009727            3.88          0.06             0.04   1.67  \n",
       "VI8VZ8_E100013458            3.75          0.05             1.11   1.50  \n",
       "VL6UTA_E100010953            4.70          0.12             0.06   2.07  \n",
       "VU5679_E100013124            3.91          0.14             0.14   2.36  \n",
       "VY5LA8_E100013128            2.80          0.15             0.06   2.24  "
      ]
     },
     "execution_count": 84,
     "metadata": {},
     "output_type": "execute_result"
    }
   ],
   "source": [
    "pathD = os.path.abspath(os.path.dirname('./input/BGI_Kraken2_1908/')) \n",
    "flist = [os.path.basename(x) for x in glob.glob(pathD + '/lab*')]\n",
    "\n",
    "print('Smpls - '+str(len(flist)))\n",
    "\n",
    "COLUMN_NAMES = ['Smpl','unclassified', 'Firmicutes', 'Actinobacteria', 'Bacteroidetes', 'Proteobacteria', \n",
    "                'Fusobacteria', 'Verrucomicrobia','Other']\n",
    "phySTAT = pd.DataFrame(columns=COLUMN_NAMES)\n",
    "\n",
    "for smpl in flist:\n",
    "    tax = pd.read_csv(pathD + '/' + str(smpl), sep='\\t', \n",
    "                  names=[\"perc\", \"rn1\", \"rn2\", 'type','id', \"name\"])\n",
    "    tax = tax.replace(\"\\s\\s+\" , \" \",regex=True)\n",
    "    tao = tax[tax['type'] == 'P']\n",
    "    taoSm = tao[(tao['name'] != 'unclassified')&(tao['id'] != 976)&\n",
    "                     (tao['id'] != 1239)&(tao['id'] != 1224)&\n",
    "                     (tao['id'] != 201174)&(tao['id'] != 74201)&\n",
    "                        (tao['id'] != 32066)]\n",
    "    \n",
    "    data = {'Smpl': [smpl[6:23]], \n",
    "            'unclassified': [tax[tax['name'] == 'unclassified'].iloc[0][tp]],\n",
    "            'Bacteroidetes': [tax[tax['id'] == 976].iloc[0][tp]], \n",
    "            'Firmicutes': [tax[tax['id'] == 1239].iloc[0][tp]],\n",
    "            'Proteobacteria': [tax[tax['id'] == 1224].iloc[0][tp]], \n",
    "            'Actinobacteria': [tax[tax['id'] == 201174].iloc[0][tp]], \n",
    "            'Verrucomicrobia': [tax[tax['id'] == 74201].iloc[0][tp]],\n",
    "            'Fusobacteria': [tax[tax['id'] == 32066].iloc[0][tp]], \n",
    "            'Other': taoSm['perc'].sum()}\n",
    "    df = pd.DataFrame(data)\n",
    "    \n",
    "    phySTAT = phySTAT.append(df)\n",
    "\n",
    "phySTAT=phySTAT.set_index(['Smpl'])\n",
    "phySTAT=phySTAT.sort_values(by=['unclassified'], ascending=False)\n",
    "phySTAT.to_csv('results/kraken_phylumSTAT_'+str(tp)+'.csv')\n",
    "\n",
    "phySTAT.head()"
   ]
  },
  {
   "cell_type": "markdown",
   "metadata": {},
   "source": [
    "### Make pictures with phylum stat"
   ]
  },
  {
   "cell_type": "code",
   "execution_count": 85,
   "metadata": {},
   "outputs": [
    {
     "data": {
      "text/plain": [
       "<Figure size 432x288 with 0 Axes>"
      ]
     },
     "metadata": {},
     "output_type": "display_data"
    },
    {
     "data": {
      "image/png": "[encoded data removed]",
      "text/plain": [
       "<Figure size 1080x360 with 1 Axes>"
      ]
     },
     "metadata": {
      "needs_background": "light"
     },
     "output_type": "display_data"
    }
   ],
   "source": [
    "phySTAT1 = phySTAT[['Firmicutes', 'Actinobacteria', 'Bacteroidetes', 'Proteobacteria', \n",
    "                'Fusobacteria', 'Verrucomicrobia','Other','unclassified']]\n",
    "phySTAT1 = phySTAT1.sort_values(by=['Bacteroidetes'], ascending=False)\n",
    "\n",
    "c = ['#4fc1e8', '#a0d568', '#ffce54', '#ed5564', 'grey', 'pink','darkgreen','#cfcdcc']\n",
    "\n",
    "import matplotlib.pyplot as plt\n",
    "fig = plt.figure()\n",
    "\n",
    "plt = phySTAT1.plot.bar(rot=0, stacked=True, color = c, figsize=(15, 5), width=1)\n",
    "plt.legend(loc=(1.04,0))\n",
    "plt.tick_params(axis='x', labelrotation=90)\n",
    "\n",
    "plt.set_xticklabels([])\n",
    "plt.spines['top'].set_visible(False)\n",
    "plt.spines['right'].set_visible(False)\n",
    "plt.tick_params(bottom = False)\n",
    "\n",
    "from matplotlib import pyplot as plt\n",
    "plt.title(\"Phylum level microbiome composition\")\n",
    "plt.ylabel(lb)\n",
    "plt.xlabel(\" \")\n",
    "plt.savefig('results/Phylum_'+str(tp)+'_1.png', dpi = 400, bbox_inches = 'tight')"
   ]
  },
  {
   "cell_type": "code",
   "execution_count": null,
   "metadata": {},
   "outputs": [],
   "source": []
  }
 ],
 "metadata": {
  "kernelspec": {
   "display_name": "Python 3",
   "language": "python",
   "name": "python3"
  },
  "language_info": {
   "codemirror_mode": {
    "name": "ipython",
    "version": 3
   },
   "file_extension": ".py",
   "mimetype": "text/x-python",
   "name": "python",
   "nbconvert_exporter": "python",
   "pygments_lexer": "ipython3",
   "version": "3.7.0"
  }
 },
 "nbformat": 4,
 "nbformat_minor": 2
}
